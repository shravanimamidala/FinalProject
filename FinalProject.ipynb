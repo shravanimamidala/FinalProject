{
  "nbformat": 4,
  "nbformat_minor": 0,
  "metadata": {
    "colab": {
      "name": "FinalProject.ipynb",
      "provenance": [],
      "collapsed_sections": [
        "OjrEBMnnE_E6",
        "EDd_AN2Qx9bF"
      ],
      "toc_visible": true
    },
    "kernelspec": {
      "name": "python3",
      "display_name": "Python 3"
    }
  },
  "cells": [
    {
      "cell_type": "markdown",
      "metadata": {
        "id": "d91V-nIRld_r"
      },
      "source": [
        "# Installing DASK\r\n",
        "\r\n",
        "**Using conda**\r\n",
        "* Dask is installed in Anaconda by default. You can update it using the following command:\r\n",
        "\r\n",
        "     `conda install dask`\r\n",
        "\r\n",
        "**Using pip**\r\n",
        "\r\n",
        "* To install Dask using pip, simply use the below code in your command prompt/terminal window:\r\n",
        "\r\n",
        "     `pip install “dask[complete]”`\r\n",
        "\r\n"
      ]
    },
    {
      "cell_type": "code",
      "metadata": {
        "id": "z0JYS19XdXAu"
      },
      "source": [
        "#Installing of Dask\r\n",
        "!pip install \"dask[complete]\""
      ],
      "execution_count": null,
      "outputs": []
    },
    {
      "cell_type": "code",
      "metadata": {
        "id": "ko2qKikvNg63"
      },
      "source": [
        "#Module to ignore the warnings\r\n",
        "import warnings\r\n",
        "warnings.filterwarnings('ignore')"
      ],
      "execution_count": 2,
      "outputs": []
    },
    {
      "cell_type": "markdown",
      "metadata": {
        "id": "mAAwsdRS53fr"
      },
      "source": [
        "# **Simple Dask Example**\r\n",
        "\r\n",
        "## **Importing the dask libraries**"
      ]
    },
    {
      "cell_type": "code",
      "metadata": {
        "id": "x9S5iQVf52h8"
      },
      "source": [
        "import dask\r\n",
        "from dask.delayed import delayed\r\n",
        "import dask.dataframe as dd"
      ],
      "execution_count": 3,
      "outputs": []
    },
    {
      "cell_type": "markdown",
      "metadata": {
        "id": "L6J8sLMM5L2g"
      },
      "source": [
        "In Simple Dask Example, We will be creating a two fucntions, apply_interest(),get_total_value() using both normal and Dask methods"
      ]
    },
    {
      "cell_type": "markdown",
      "metadata": {
        "id": "Xl8ptUZy5OIy"
      },
      "source": [
        "Normal Method"
      ]
    },
    {
      "cell_type": "code",
      "metadata": {
        "id": "RaPh_-1j1qvS"
      },
      "source": [
        "from time import sleep\r\n",
        "def apply_interest(amount,time_interest,roi):\r\n",
        "  sleep(1)\r\n",
        "  interest=(amount*time_interest*roi)/100\r\n",
        "  return interest\r\n",
        "\r\n",
        "def get_total(amount,a,b):\r\n",
        "  sleep(1)\r\n",
        "  return amount+a+b\r\n",
        "\r\n",
        "def get_total_value(amount):\r\n",
        "  sleep(1)\r\n",
        "  #after 2 years\r\n",
        "  a=apply_interest(amount,time_interest=2,roi=10)\r\n",
        "  #after next 3 years\r\n",
        "  b=apply_interest(amount,time_interest=3,roi=10)\r\n",
        "  get_total(amount,a,b)"
      ],
      "execution_count": 4,
      "outputs": []
    },
    {
      "cell_type": "code",
      "metadata": {
        "colab": {
          "base_uri": "https://localhost:8080/"
        },
        "id": "K25tXJ7L5Q7g",
        "outputId": "7366198e-e652-4dae-a787-7d350ddf9e9e"
      },
      "source": [
        "%%time\r\n",
        "z = get_total_value(1000)"
      ],
      "execution_count": 5,
      "outputs": [
        {
          "output_type": "stream",
          "text": [
            "CPU times: user 469 µs, sys: 96 µs, total: 565 µs\n",
            "Wall time: 4 s\n"
          ],
          "name": "stdout"
        }
      ]
    },
    {
      "cell_type": "markdown",
      "metadata": {
        "id": "5aReK3_e5fkW"
      },
      "source": [
        "Using Dask which uses dask.delayed() whose object keep track of all functions to call arguements to pass to it"
      ]
    },
    {
      "cell_type": "code",
      "metadata": {
        "colab": {
          "base_uri": "https://localhost:8080/"
        },
        "id": "0CvDZwVV5Q-F",
        "outputId": "e808ece6-f192-4dd6-d918-2e822a525c76"
      },
      "source": [
        "%%time\r\n",
        "z = delayed(get_total_value)(1000)"
      ],
      "execution_count": 6,
      "outputs": [
        {
          "output_type": "stream",
          "text": [
            "CPU times: user 91 µs, sys: 1.03 ms, total: 1.12 ms\n",
            "Wall time: 1.21 ms\n"
          ],
          "name": "stdout"
        }
      ]
    },
    {
      "cell_type": "code",
      "metadata": {
        "colab": {
          "base_uri": "https://localhost:8080/",
          "height": 304
        },
        "id": "PI-TUi8T5RAg",
        "outputId": "9790d3f0-b66c-42cb-a04e-3d5bbddc90b5"
      },
      "source": [
        "#Task Graph\r\n",
        "z.visualize()"
      ],
      "execution_count": 7,
      "outputs": [
        {
          "output_type": "execute_result",
          "data": {
            "image/png": "[encoded data removed]",
            "text/plain": [
              "<IPython.core.display.Image object>"
            ]
          },
          "metadata": {
            "tags": []
          },
          "execution_count": 7
        }
      ]
    },
    {
      "cell_type": "markdown",
      "metadata": {
        "id": "bjlZ3wMDUgrk"
      },
      "source": [
        "## Parallel Computing in for Loop"
      ]
    },
    {
      "cell_type": "code",
      "metadata": {
        "colab": {
          "base_uri": "https://localhost:8080/",
          "height": 514
        },
        "id": "0E7ipRBVUfcx",
        "outputId": "929222a9-bb00-4d13-a239-782615991139"
      },
      "source": [
        "# Functions to perform mathematics operations\r\n",
        "def square(x):\r\n",
        "    return x*x\r\n",
        "\r\n",
        "def double(x):\r\n",
        "    return x*2\r\n",
        "\r\n",
        "def add(x, y):\r\n",
        "    return x + y\r\n",
        "\r\n",
        "# For loop that calls the above functions for each data\r\n",
        "output = []\r\n",
        "for i in range(6):\r\n",
        "    a = delayed(square)(i)\r\n",
        "    b = delayed(double)(i)\r\n",
        "    c = delayed(add)(a, b)\r\n",
        "    output.append(c)\r\n",
        "\r\n",
        "total = dask.delayed(sum)(output)\r\n",
        "\r\n",
        "# Visualizing the task graph for the problem\r\n",
        "total.visualize()"
      ],
      "execution_count": 8,
      "outputs": [
        {
          "output_type": "execute_result",
          "data": {
            "image/png": "[encoded data removed]",
            "text/plain": [
              "<IPython.core.display.Image object>"
            ]
          },
          "metadata": {
            "tags": []
          },
          "execution_count": 8
        }
      ]
    },
    {
      "cell_type": "markdown",
      "metadata": {
        "id": "ZRgMk_8AUz_Q"
      },
      "source": [
        "You can use delayed as decorator , We get the same output\r\n"
      ]
    },
    {
      "cell_type": "code",
      "metadata": {
        "colab": {
          "base_uri": "https://localhost:8080/",
          "height": 514
        },
        "id": "mfINVBfNU6lE",
        "outputId": "0624b270-d2d7-445b-965f-f86c1da038a0"
      },
      "source": [
        "# Using delayed as a decorator to achieve parallel computing.\r\n",
        "\r\n",
        "@delayed\r\n",
        "def square(x):\r\n",
        "    return x*x\r\n",
        "\r\n",
        "@delayed\r\n",
        "def double(x):\r\n",
        "    return x*2\r\n",
        "\r\n",
        "@delayed\r\n",
        "def add(x, y):\r\n",
        "    return x + y\r\n",
        "\r\n",
        "# No change has to be done in function calls\r\n",
        "output = []\r\n",
        "for i in range(6):\r\n",
        "    a = square(i)\r\n",
        "    b = double(i)\r\n",
        "    c = add(a, b)\r\n",
        "    output.append(c)\r\n",
        "\r\n",
        "total = dask.delayed(sum)(output)\r\n",
        "total.visualize()"
      ],
      "execution_count": 9,
      "outputs": [
        {
          "output_type": "execute_result",
          "data": {
            "image/png": "[encoded data removed]",
            "text/plain": [
              "<IPython.core.display.Image object>"
            ]
          },
          "metadata": {
            "tags": []
          },
          "execution_count": 9
        }
      ]
    },
    {
      "cell_type": "markdown",
      "metadata": {
        "id": "ZZvFuIaQ9cYR"
      },
      "source": [
        "# **Implementations**"
      ]
    },
    {
      "cell_type": "markdown",
      "metadata": {
        "id": "RsHt9lGrVTAE"
      },
      "source": [
        "### Time Series dataset in dask"
      ]
    },
    {
      "cell_type": "code",
      "metadata": {
        "id": "jPnxScaVVZvL"
      },
      "source": [
        "data_frame = dask.datasets.timeseries()"
      ],
      "execution_count": 10,
      "outputs": []
    },
    {
      "cell_type": "code",
      "metadata": {
        "colab": {
          "base_uri": "https://localhost:8080/",
          "height": 225
        },
        "id": "QzPN-3RtVe-z",
        "outputId": "9f61d5e1-1862-465d-a55c-3aff4f87fb96"
      },
      "source": [
        "data_frame.head()"
      ],
      "execution_count": 11,
      "outputs": [
        {
          "output_type": "execute_result",
          "data": {
            "text/html": [
              "<div>\n",
              "<style scoped>\n",
              "    .dataframe tbody tr th:only-of-type {\n",
              "        vertical-align: middle;\n",
              "    }\n",
              "\n",
              "    .dataframe tbody tr th {\n",
              "        vertical-align: top;\n",
              "    }\n",
              "\n",
              "    .dataframe thead th {\n",
              "        text-align: right;\n",
              "    }\n",
              "</style>\n",
              "<table border=\"1\" class=\"dataframe\">\n",
              "  <thead>\n",
              "    <tr style=\"text-align: right;\">\n",
              "      <th></th>\n",
              "      <th>id</th>\n",
              "      <th>name</th>\n",
              "      <th>x</th>\n",
              "      <th>y</th>\n",
              "    </tr>\n",
              "    <tr>\n",
              "      <th>timestamp</th>\n",
              "      <th></th>\n",
              "      <th></th>\n",
              "      <th></th>\n",
              "      <th></th>\n",
              "    </tr>\n",
              "  </thead>\n",
              "  <tbody>\n",
              "    <tr>\n",
              "      <th>2000-01-01 00:00:00</th>\n",
              "      <td>982</td>\n",
              "      <td>Ursula</td>\n",
              "      <td>0.898416</td>\n",
              "      <td>-0.785572</td>\n",
              "    </tr>\n",
              "    <tr>\n",
              "      <th>2000-01-01 00:00:01</th>\n",
              "      <td>1000</td>\n",
              "      <td>Kevin</td>\n",
              "      <td>0.366522</td>\n",
              "      <td>-0.035444</td>\n",
              "    </tr>\n",
              "    <tr>\n",
              "      <th>2000-01-01 00:00:02</th>\n",
              "      <td>1024</td>\n",
              "      <td>Victor</td>\n",
              "      <td>-0.831571</td>\n",
              "      <td>-0.974327</td>\n",
              "    </tr>\n",
              "    <tr>\n",
              "      <th>2000-01-01 00:00:03</th>\n",
              "      <td>963</td>\n",
              "      <td>Ingrid</td>\n",
              "      <td>0.560496</td>\n",
              "      <td>-0.848002</td>\n",
              "    </tr>\n",
              "    <tr>\n",
              "      <th>2000-01-01 00:00:04</th>\n",
              "      <td>1006</td>\n",
              "      <td>Michael</td>\n",
              "      <td>-0.656446</td>\n",
              "      <td>-0.219274</td>\n",
              "    </tr>\n",
              "  </tbody>\n",
              "</table>\n",
              "</div>"
            ],
            "text/plain": [
              "                       id     name         x         y\n",
              "timestamp                                             \n",
              "2000-01-01 00:00:00   982   Ursula  0.898416 -0.785572\n",
              "2000-01-01 00:00:01  1000    Kevin  0.366522 -0.035444\n",
              "2000-01-01 00:00:02  1024   Victor -0.831571 -0.974327\n",
              "2000-01-01 00:00:03   963   Ingrid  0.560496 -0.848002\n",
              "2000-01-01 00:00:04  1006  Michael -0.656446 -0.219274"
            ]
          },
          "metadata": {
            "tags": []
          },
          "execution_count": 11
        }
      ]
    },
    {
      "cell_type": "code",
      "metadata": {
        "colab": {
          "base_uri": "https://localhost:8080/"
        },
        "id": "ChzLeaiKVsRR",
        "outputId": "715550be-3d36-4677-8861-b3a07d71a377"
      },
      "source": [
        "# Converting dask dataframe into pandas dataframe\r\n",
        "result_df=data_frame.compute()\r\n",
        "type(result_df)"
      ],
      "execution_count": 12,
      "outputs": [
        {
          "output_type": "execute_result",
          "data": {
            "text/plain": [
              "pandas.core.frame.DataFrame"
            ]
          },
          "metadata": {
            "tags": []
          },
          "execution_count": 12
        }
      ]
    },
    {
      "cell_type": "code",
      "metadata": {
        "colab": {
          "base_uri": "https://localhost:8080/",
          "height": 431
        },
        "id": "rcjYsh4lV71E",
        "outputId": "3d324da4-9c75-4750-c4d7-1731b41f3ffa"
      },
      "source": [
        "data_frame.compute()"
      ],
      "execution_count": 13,
      "outputs": [
        {
          "output_type": "execute_result",
          "data": {
            "text/html": [
              "<div>\n",
              "<style scoped>\n",
              "    .dataframe tbody tr th:only-of-type {\n",
              "        vertical-align: middle;\n",
              "    }\n",
              "\n",
              "    .dataframe tbody tr th {\n",
              "        vertical-align: top;\n",
              "    }\n",
              "\n",
              "    .dataframe thead th {\n",
              "        text-align: right;\n",
              "    }\n",
              "</style>\n",
              "<table border=\"1\" class=\"dataframe\">\n",
              "  <thead>\n",
              "    <tr style=\"text-align: right;\">\n",
              "      <th></th>\n",
              "      <th>id</th>\n",
              "      <th>name</th>\n",
              "      <th>x</th>\n",
              "      <th>y</th>\n",
              "    </tr>\n",
              "    <tr>\n",
              "      <th>timestamp</th>\n",
              "      <th></th>\n",
              "      <th></th>\n",
              "      <th></th>\n",
              "      <th></th>\n",
              "    </tr>\n",
              "  </thead>\n",
              "  <tbody>\n",
              "    <tr>\n",
              "      <th>2000-01-01 00:00:00</th>\n",
              "      <td>982</td>\n",
              "      <td>Ursula</td>\n",
              "      <td>0.898416</td>\n",
              "      <td>-0.785572</td>\n",
              "    </tr>\n",
              "    <tr>\n",
              "      <th>2000-01-01 00:00:01</th>\n",
              "      <td>1000</td>\n",
              "      <td>Kevin</td>\n",
              "      <td>0.366522</td>\n",
              "      <td>-0.035444</td>\n",
              "    </tr>\n",
              "    <tr>\n",
              "      <th>2000-01-01 00:00:02</th>\n",
              "      <td>1024</td>\n",
              "      <td>Victor</td>\n",
              "      <td>-0.831571</td>\n",
              "      <td>-0.974327</td>\n",
              "    </tr>\n",
              "    <tr>\n",
              "      <th>2000-01-01 00:00:03</th>\n",
              "      <td>963</td>\n",
              "      <td>Ingrid</td>\n",
              "      <td>0.560496</td>\n",
              "      <td>-0.848002</td>\n",
              "    </tr>\n",
              "    <tr>\n",
              "      <th>2000-01-01 00:00:04</th>\n",
              "      <td>1006</td>\n",
              "      <td>Michael</td>\n",
              "      <td>-0.656446</td>\n",
              "      <td>-0.219274</td>\n",
              "    </tr>\n",
              "    <tr>\n",
              "      <th>...</th>\n",
              "      <td>...</td>\n",
              "      <td>...</td>\n",
              "      <td>...</td>\n",
              "      <td>...</td>\n",
              "    </tr>\n",
              "    <tr>\n",
              "      <th>2000-01-30 23:59:55</th>\n",
              "      <td>981</td>\n",
              "      <td>Tim</td>\n",
              "      <td>-0.278076</td>\n",
              "      <td>-0.598504</td>\n",
              "    </tr>\n",
              "    <tr>\n",
              "      <th>2000-01-30 23:59:56</th>\n",
              "      <td>1004</td>\n",
              "      <td>Yvonne</td>\n",
              "      <td>0.466411</td>\n",
              "      <td>-0.424894</td>\n",
              "    </tr>\n",
              "    <tr>\n",
              "      <th>2000-01-30 23:59:57</th>\n",
              "      <td>1032</td>\n",
              "      <td>Sarah</td>\n",
              "      <td>-0.076053</td>\n",
              "      <td>0.871270</td>\n",
              "    </tr>\n",
              "    <tr>\n",
              "      <th>2000-01-30 23:59:58</th>\n",
              "      <td>1017</td>\n",
              "      <td>Tim</td>\n",
              "      <td>0.710463</td>\n",
              "      <td>0.316340</td>\n",
              "    </tr>\n",
              "    <tr>\n",
              "      <th>2000-01-30 23:59:59</th>\n",
              "      <td>986</td>\n",
              "      <td>Tim</td>\n",
              "      <td>-0.335388</td>\n",
              "      <td>-0.710493</td>\n",
              "    </tr>\n",
              "  </tbody>\n",
              "</table>\n",
              "<p>2592000 rows × 4 columns</p>\n",
              "</div>"
            ],
            "text/plain": [
              "                       id     name         x         y\n",
              "timestamp                                             \n",
              "2000-01-01 00:00:00   982   Ursula  0.898416 -0.785572\n",
              "2000-01-01 00:00:01  1000    Kevin  0.366522 -0.035444\n",
              "2000-01-01 00:00:02  1024   Victor -0.831571 -0.974327\n",
              "2000-01-01 00:00:03   963   Ingrid  0.560496 -0.848002\n",
              "2000-01-01 00:00:04  1006  Michael -0.656446 -0.219274\n",
              "...                   ...      ...       ...       ...\n",
              "2000-01-30 23:59:55   981      Tim -0.278076 -0.598504\n",
              "2000-01-30 23:59:56  1004   Yvonne  0.466411 -0.424894\n",
              "2000-01-30 23:59:57  1032    Sarah -0.076053  0.871270\n",
              "2000-01-30 23:59:58  1017      Tim  0.710463  0.316340\n",
              "2000-01-30 23:59:59   986      Tim -0.335388 -0.710493\n",
              "\n",
              "[2592000 rows x 4 columns]"
            ]
          },
          "metadata": {
            "tags": []
          },
          "execution_count": 13
        }
      ]
    },
    {
      "cell_type": "code",
      "metadata": {
        "colab": {
          "base_uri": "https://localhost:8080/",
          "height": 258
        },
        "id": "VrqSvYHNV0NK",
        "outputId": "458416b4-2719-460f-d21a-b3c76f3568e3"
      },
      "source": [
        "data_frame.persist()"
      ],
      "execution_count": 14,
      "outputs": [
        {
          "output_type": "execute_result",
          "data": {
            "text/html": [
              "<div><strong>Dask DataFrame Structure:</strong></div>\n",
              "<div>\n",
              "<style scoped>\n",
              "    .dataframe tbody tr th:only-of-type {\n",
              "        vertical-align: middle;\n",
              "    }\n",
              "\n",
              "    .dataframe tbody tr th {\n",
              "        vertical-align: top;\n",
              "    }\n",
              "\n",
              "    .dataframe thead th {\n",
              "        text-align: right;\n",
              "    }\n",
              "</style>\n",
              "<table border=\"1\" class=\"dataframe\">\n",
              "  <thead>\n",
              "    <tr style=\"text-align: right;\">\n",
              "      <th></th>\n",
              "      <th>id</th>\n",
              "      <th>name</th>\n",
              "      <th>x</th>\n",
              "      <th>y</th>\n",
              "    </tr>\n",
              "    <tr>\n",
              "      <th>npartitions=30</th>\n",
              "      <th></th>\n",
              "      <th></th>\n",
              "      <th></th>\n",
              "      <th></th>\n",
              "    </tr>\n",
              "  </thead>\n",
              "  <tbody>\n",
              "    <tr>\n",
              "      <th>2000-01-01</th>\n",
              "      <td>int64</td>\n",
              "      <td>object</td>\n",
              "      <td>float64</td>\n",
              "      <td>float64</td>\n",
              "    </tr>\n",
              "    <tr>\n",
              "      <th>2000-01-02</th>\n",
              "      <td>...</td>\n",
              "      <td>...</td>\n",
              "      <td>...</td>\n",
              "      <td>...</td>\n",
              "    </tr>\n",
              "    <tr>\n",
              "      <th>...</th>\n",
              "      <td>...</td>\n",
              "      <td>...</td>\n",
              "      <td>...</td>\n",
              "      <td>...</td>\n",
              "    </tr>\n",
              "    <tr>\n",
              "      <th>2000-01-30</th>\n",
              "      <td>...</td>\n",
              "      <td>...</td>\n",
              "      <td>...</td>\n",
              "      <td>...</td>\n",
              "    </tr>\n",
              "    <tr>\n",
              "      <th>2000-01-31</th>\n",
              "      <td>...</td>\n",
              "      <td>...</td>\n",
              "      <td>...</td>\n",
              "      <td>...</td>\n",
              "    </tr>\n",
              "  </tbody>\n",
              "</table>\n",
              "</div>\n",
              "<div>Dask Name: make-timeseries, 30 tasks</div>"
            ],
            "text/plain": [
              "Dask DataFrame Structure:\n",
              "                   id    name        x        y\n",
              "npartitions=30                                 \n",
              "2000-01-01      int64  object  float64  float64\n",
              "2000-01-02        ...     ...      ...      ...\n",
              "...               ...     ...      ...      ...\n",
              "2000-01-30        ...     ...      ...      ...\n",
              "2000-01-31        ...     ...      ...      ...\n",
              "Dask Name: make-timeseries, 30 tasks"
            ]
          },
          "metadata": {
            "tags": []
          },
          "execution_count": 14
        }
      ]
    },
    {
      "cell_type": "code",
      "metadata": {
        "colab": {
          "base_uri": "https://localhost:8080/"
        },
        "id": "gCfkECvdWsjW",
        "outputId": "e5545dc1-cf08-4572-e274-9da6956490b4"
      },
      "source": [
        "%%time\r\n",
        "data_frame.resample('3T')"
      ],
      "execution_count": 131,
      "outputs": [
        {
          "output_type": "stream",
          "text": [
            "CPU times: user 245 µs, sys: 27 µs, total: 272 µs\n",
            "Wall time: 286 µs\n"
          ],
          "name": "stdout"
        },
        {
          "output_type": "execute_result",
          "data": {
            "text/plain": [
              "<dask.dataframe.tseries.resample.Resampler at 0x7fe636fdfe90>"
            ]
          },
          "metadata": {
            "tags": []
          },
          "execution_count": 131
        }
      ]
    },
    {
      "cell_type": "markdown",
      "metadata": {
        "id": "_YZuglZy9VTf"
      },
      "source": [
        "**Using smaller Dataset for computations and comparing with Pandas**"
      ]
    },
    {
      "cell_type": "markdown",
      "metadata": {
        "id": "bG7_HrMN4JDC"
      },
      "source": [
        "## Meta data of Cerals.csv\r\n",
        "\r\n",
        "Fields in the dataset:\r\n",
        "\r\n",
        "* Name: Name of cereal\r\n",
        "* mfr: Manufacturer of cereal\r\n",
        "```\r\n",
        "    A = American Home Food Products;\r\n",
        "    G = General Mills\r\n",
        "    K = Kelloggs\r\n",
        "    N = Nabisco\r\n",
        "    P = Post\r\n",
        "    Q = Quaker Oats\r\n",
        "    R = Ralston Purina\r\n",
        "```\r\n",
        "\r\n",
        "\r\n",
        "\r\n",
        "* type:\r\n",
        "``` \r\n",
        "    cold\r\n",
        "    hot \r\n",
        "    ```\r\n",
        "* calories: calories per serving\r\n",
        "* protein: grams of protein\r\n",
        "*  fat: grams of fat\r\n",
        "* sodium: milligrams of sodium\r\n",
        "* fiber: grams of dietary fiber\r\n",
        "* carbo: grams of complex carbohydrates\r\n",
        "* sugars: grams of sugars\r\n",
        "* potass: milligrams of potassium\r\n",
        "* vitamins: vitamins and minerals - 0, 25, or 100, indicating the typical \r\n",
        "* percentage of FDA recommended\r\n",
        "* shelf: display shelf (1, 2, or 3, counting from the floor)\r\n",
        "* weight: weight in ounces of one serving\r\n",
        "* cups: number of cups in one serving\r\n",
        "* rating: a rating of the cereals (Possibly from Consumer Reports?)\r\n",
        "\r\n",
        "Here rating is the target variable"
      ]
    },
    {
      "cell_type": "markdown",
      "metadata": {
        "id": "-_fTTwPB7J3-"
      },
      "source": [
        "## Importing libraries"
      ]
    },
    {
      "cell_type": "code",
      "metadata": {
        "id": "o0zaWXLK_XVc"
      },
      "source": [
        "import pandas as pd\r\n",
        "import dask.dataframe as dd"
      ],
      "execution_count": 16,
      "outputs": []
    },
    {
      "cell_type": "markdown",
      "metadata": {
        "id": "8ZC7Kz-S3way"
      },
      "source": [
        "Reading of cerals.csv in pandas and dask"
      ]
    },
    {
      "cell_type": "code",
      "metadata": {
        "colab": {
          "base_uri": "https://localhost:8080/"
        },
        "id": "4qDfeTrJ94lS",
        "outputId": "605382e0-1f45-4ce8-d7b8-352a3a4f802d"
      },
      "source": [
        "%%time\r\n",
        "cerals_pandas=pd.read_csv(\"/content/cereal.csv\")\r\n"
      ],
      "execution_count": 17,
      "outputs": [
        {
          "output_type": "stream",
          "text": [
            "CPU times: user 5.7 ms, sys: 0 ns, total: 5.7 ms\n",
            "Wall time: 6.46 ms\n"
          ],
          "name": "stdout"
        }
      ]
    },
    {
      "cell_type": "code",
      "metadata": {
        "colab": {
          "base_uri": "https://localhost:8080/"
        },
        "id": "VtUzGgJZ94oE",
        "outputId": "39a658de-447b-491c-9677-150973515f3e"
      },
      "source": [
        "%%time\r\n",
        "cerals_dask=dd.read_csv(\"/content/cereal.csv\")"
      ],
      "execution_count": 18,
      "outputs": [
        {
          "output_type": "stream",
          "text": [
            "CPU times: user 6.65 ms, sys: 1.79 ms, total: 8.44 ms\n",
            "Wall time: 9.74 ms\n"
          ],
          "name": "stdout"
        }
      ]
    },
    {
      "cell_type": "markdown",
      "metadata": {
        "id": "EctlXPyw_1WT"
      },
      "source": [
        "Parallelizable operations in both Pandas and Dask"
      ]
    },
    {
      "cell_type": "code",
      "metadata": {
        "colab": {
          "base_uri": "https://localhost:8080/",
          "height": 195
        },
        "id": "a63NG5CQ94qi",
        "outputId": "27d80dbf-ab3e-4c8c-b21a-71649b40511d"
      },
      "source": [
        "cerals_pandas.head()"
      ],
      "execution_count": 19,
      "outputs": [
        {
          "output_type": "execute_result",
          "data": {
            "text/html": [
              "<div>\n",
              "<style scoped>\n",
              "    .dataframe tbody tr th:only-of-type {\n",
              "        vertical-align: middle;\n",
              "    }\n",
              "\n",
              "    .dataframe tbody tr th {\n",
              "        vertical-align: top;\n",
              "    }\n",
              "\n",
              "    .dataframe thead th {\n",
              "        text-align: right;\n",
              "    }\n",
              "</style>\n",
              "<table border=\"1\" class=\"dataframe\">\n",
              "  <thead>\n",
              "    <tr style=\"text-align: right;\">\n",
              "      <th></th>\n",
              "      <th>name</th>\n",
              "      <th>mfr</th>\n",
              "      <th>type</th>\n",
              "      <th>calories</th>\n",
              "      <th>protein</th>\n",
              "      <th>fat</th>\n",
              "      <th>sodium</th>\n",
              "      <th>fiber</th>\n",
              "      <th>carbo</th>\n",
              "      <th>sugars</th>\n",
              "      <th>potass</th>\n",
              "      <th>vitamins</th>\n",
              "      <th>shelf</th>\n",
              "      <th>weight</th>\n",
              "      <th>cups</th>\n",
              "      <th>rating</th>\n",
              "    </tr>\n",
              "  </thead>\n",
              "  <tbody>\n",
              "    <tr>\n",
              "      <th>0</th>\n",
              "      <td>100% Bran</td>\n",
              "      <td>N</td>\n",
              "      <td>C</td>\n",
              "      <td>70</td>\n",
              "      <td>4</td>\n",
              "      <td>1</td>\n",
              "      <td>130</td>\n",
              "      <td>10.0</td>\n",
              "      <td>5.0</td>\n",
              "      <td>6</td>\n",
              "      <td>280</td>\n",
              "      <td>25</td>\n",
              "      <td>3</td>\n",
              "      <td>1.0</td>\n",
              "      <td>0.33</td>\n",
              "      <td>68.402973</td>\n",
              "    </tr>\n",
              "    <tr>\n",
              "      <th>1</th>\n",
              "      <td>100% Natural Bran</td>\n",
              "      <td>Q</td>\n",
              "      <td>C</td>\n",
              "      <td>120</td>\n",
              "      <td>3</td>\n",
              "      <td>5</td>\n",
              "      <td>15</td>\n",
              "      <td>2.0</td>\n",
              "      <td>8.0</td>\n",
              "      <td>8</td>\n",
              "      <td>135</td>\n",
              "      <td>0</td>\n",
              "      <td>3</td>\n",
              "      <td>1.0</td>\n",
              "      <td>1.00</td>\n",
              "      <td>33.983679</td>\n",
              "    </tr>\n",
              "    <tr>\n",
              "      <th>2</th>\n",
              "      <td>All-Bran</td>\n",
              "      <td>K</td>\n",
              "      <td>C</td>\n",
              "      <td>70</td>\n",
              "      <td>4</td>\n",
              "      <td>1</td>\n",
              "      <td>260</td>\n",
              "      <td>9.0</td>\n",
              "      <td>7.0</td>\n",
              "      <td>5</td>\n",
              "      <td>320</td>\n",
              "      <td>25</td>\n",
              "      <td>3</td>\n",
              "      <td>1.0</td>\n",
              "      <td>0.33</td>\n",
              "      <td>59.425505</td>\n",
              "    </tr>\n",
              "    <tr>\n",
              "      <th>3</th>\n",
              "      <td>All-Bran with Extra Fiber</td>\n",
              "      <td>K</td>\n",
              "      <td>C</td>\n",
              "      <td>50</td>\n",
              "      <td>4</td>\n",
              "      <td>0</td>\n",
              "      <td>140</td>\n",
              "      <td>14.0</td>\n",
              "      <td>8.0</td>\n",
              "      <td>0</td>\n",
              "      <td>330</td>\n",
              "      <td>25</td>\n",
              "      <td>3</td>\n",
              "      <td>1.0</td>\n",
              "      <td>0.50</td>\n",
              "      <td>93.704912</td>\n",
              "    </tr>\n",
              "    <tr>\n",
              "      <th>4</th>\n",
              "      <td>Almond Delight</td>\n",
              "      <td>R</td>\n",
              "      <td>C</td>\n",
              "      <td>110</td>\n",
              "      <td>2</td>\n",
              "      <td>2</td>\n",
              "      <td>200</td>\n",
              "      <td>1.0</td>\n",
              "      <td>14.0</td>\n",
              "      <td>8</td>\n",
              "      <td>-1</td>\n",
              "      <td>25</td>\n",
              "      <td>3</td>\n",
              "      <td>1.0</td>\n",
              "      <td>0.75</td>\n",
              "      <td>34.384843</td>\n",
              "    </tr>\n",
              "  </tbody>\n",
              "</table>\n",
              "</div>"
            ],
            "text/plain": [
              "                        name mfr type  calories  ...  shelf  weight  cups     rating\n",
              "0                  100% Bran   N    C        70  ...      3     1.0  0.33  68.402973\n",
              "1          100% Natural Bran   Q    C       120  ...      3     1.0  1.00  33.983679\n",
              "2                   All-Bran   K    C        70  ...      3     1.0  0.33  59.425505\n",
              "3  All-Bran with Extra Fiber   K    C        50  ...      3     1.0  0.50  93.704912\n",
              "4             Almond Delight   R    C       110  ...      3     1.0  0.75  34.384843\n",
              "\n",
              "[5 rows x 16 columns]"
            ]
          },
          "metadata": {
            "tags": []
          },
          "execution_count": 19
        }
      ]
    },
    {
      "cell_type": "markdown",
      "metadata": {
        "id": "mjrSExZ-BPRa"
      },
      "source": [
        "Elementwise operations"
      ]
    },
    {
      "cell_type": "code",
      "metadata": {
        "colab": {
          "base_uri": "https://localhost:8080/"
        },
        "id": "BUKjovFZAMDi",
        "outputId": "bd7b039e-a45a-4975-e197-660c3be3feb6"
      },
      "source": [
        "%%time\r\n",
        "diff_protein_fat_D=cerals_dask.protein-cerals_dask.fat"
      ],
      "execution_count": 20,
      "outputs": [
        {
          "output_type": "stream",
          "text": [
            "CPU times: user 932 µs, sys: 0 ns, total: 932 µs\n",
            "Wall time: 942 µs\n"
          ],
          "name": "stdout"
        }
      ]
    },
    {
      "cell_type": "code",
      "metadata": {
        "colab": {
          "base_uri": "https://localhost:8080/"
        },
        "id": "3GsdpQvOBUHT",
        "outputId": "b7141515-73d3-4be2-f0d4-4c6cb3984282"
      },
      "source": [
        "%%time\r\n",
        "diff_protein_fat_P=cerals_pandas.protein-cerals_pandas.fat"
      ],
      "execution_count": 21,
      "outputs": [
        {
          "output_type": "stream",
          "text": [
            "CPU times: user 2.87 ms, sys: 0 ns, total: 2.87 ms\n",
            "Wall time: 2.95 ms\n"
          ],
          "name": "stdout"
        }
      ]
    },
    {
      "cell_type": "code",
      "metadata": {
        "colab": {
          "base_uri": "https://localhost:8080/"
        },
        "id": "Big2-UO8Cq5d",
        "outputId": "86c862a0-4e3e-4212-8bc3-47c86f75254f"
      },
      "source": [
        "diff_protein_fat_P"
      ],
      "execution_count": 22,
      "outputs": [
        {
          "output_type": "execute_result",
          "data": {
            "text/plain": [
              "0     3\n",
              "1    -2\n",
              "2     3\n",
              "3     4\n",
              "4     0\n",
              "     ..\n",
              "72    1\n",
              "73    0\n",
              "74    2\n",
              "75    2\n",
              "76    1\n",
              "Length: 77, dtype: int64"
            ]
          },
          "metadata": {
            "tags": []
          },
          "execution_count": 22
        }
      ]
    },
    {
      "cell_type": "code",
      "metadata": {
        "colab": {
          "base_uri": "https://localhost:8080/"
        },
        "id": "C-cPJhBXCmYk",
        "outputId": "4a90cebb-bbf2-470c-ce36-b8c7f9bc74c6"
      },
      "source": [
        "diff_protein_fat_D"
      ],
      "execution_count": 23,
      "outputs": [
        {
          "output_type": "execute_result",
          "data": {
            "text/plain": [
              "Dask Series Structure:\n",
              "npartitions=1\n",
              "    int64\n",
              "      ...\n",
              "dtype: int64\n",
              "Dask Name: sub, 4 tasks"
            ]
          },
          "metadata": {
            "tags": []
          },
          "execution_count": 23
        }
      ]
    },
    {
      "cell_type": "code",
      "metadata": {
        "colab": {
          "base_uri": "https://localhost:8080/"
        },
        "id": "aW5uqmQRBUMQ",
        "outputId": "f9f2e7f8-a770-45e1-a2e0-e7bdd8ac2021"
      },
      "source": [
        "diff_protein_fat_D.compute()"
      ],
      "execution_count": 24,
      "outputs": [
        {
          "output_type": "execute_result",
          "data": {
            "text/plain": [
              "0     3\n",
              "1    -2\n",
              "2     3\n",
              "3     4\n",
              "4     0\n",
              "     ..\n",
              "72    1\n",
              "73    0\n",
              "74    2\n",
              "75    2\n",
              "76    1\n",
              "Length: 77, dtype: int64"
            ]
          },
          "metadata": {
            "tags": []
          },
          "execution_count": 24
        }
      ]
    },
    {
      "cell_type": "code",
      "metadata": {
        "colab": {
          "base_uri": "https://localhost:8080/",
          "height": 763
        },
        "id": "m5h-AuoEBUPx",
        "outputId": "3c581915-5c43-4b22-a7c3-2c808dbaedd2"
      },
      "source": [
        "%%time\r\n",
        "cerals_pandas[cerals_pandas.mfr.isin(['K'])]"
      ],
      "execution_count": 25,
      "outputs": [
        {
          "output_type": "stream",
          "text": [
            "CPU times: user 1.38 ms, sys: 0 ns, total: 1.38 ms\n",
            "Wall time: 1.44 ms\n"
          ],
          "name": "stdout"
        },
        {
          "output_type": "execute_result",
          "data": {
            "text/html": [
              "<div>\n",
              "<style scoped>\n",
              "    .dataframe tbody tr th:only-of-type {\n",
              "        vertical-align: middle;\n",
              "    }\n",
              "\n",
              "    .dataframe tbody tr th {\n",
              "        vertical-align: top;\n",
              "    }\n",
              "\n",
              "    .dataframe thead th {\n",
              "        text-align: right;\n",
              "    }\n",
              "</style>\n",
              "<table border=\"1\" class=\"dataframe\">\n",
              "  <thead>\n",
              "    <tr style=\"text-align: right;\">\n",
              "      <th></th>\n",
              "      <th>name</th>\n",
              "      <th>mfr</th>\n",
              "      <th>type</th>\n",
              "      <th>calories</th>\n",
              "      <th>protein</th>\n",
              "      <th>fat</th>\n",
              "      <th>sodium</th>\n",
              "      <th>fiber</th>\n",
              "      <th>carbo</th>\n",
              "      <th>sugars</th>\n",
              "      <th>potass</th>\n",
              "      <th>vitamins</th>\n",
              "      <th>shelf</th>\n",
              "      <th>weight</th>\n",
              "      <th>cups</th>\n",
              "      <th>rating</th>\n",
              "    </tr>\n",
              "  </thead>\n",
              "  <tbody>\n",
              "    <tr>\n",
              "      <th>2</th>\n",
              "      <td>All-Bran</td>\n",
              "      <td>K</td>\n",
              "      <td>C</td>\n",
              "      <td>70</td>\n",
              "      <td>4</td>\n",
              "      <td>1</td>\n",
              "      <td>260</td>\n",
              "      <td>9.0</td>\n",
              "      <td>7.0</td>\n",
              "      <td>5</td>\n",
              "      <td>320</td>\n",
              "      <td>25</td>\n",
              "      <td>3</td>\n",
              "      <td>1.00</td>\n",
              "      <td>0.33</td>\n",
              "      <td>59.425505</td>\n",
              "    </tr>\n",
              "    <tr>\n",
              "      <th>3</th>\n",
              "      <td>All-Bran with Extra Fiber</td>\n",
              "      <td>K</td>\n",
              "      <td>C</td>\n",
              "      <td>50</td>\n",
              "      <td>4</td>\n",
              "      <td>0</td>\n",
              "      <td>140</td>\n",
              "      <td>14.0</td>\n",
              "      <td>8.0</td>\n",
              "      <td>0</td>\n",
              "      <td>330</td>\n",
              "      <td>25</td>\n",
              "      <td>3</td>\n",
              "      <td>1.00</td>\n",
              "      <td>0.50</td>\n",
              "      <td>93.704912</td>\n",
              "    </tr>\n",
              "    <tr>\n",
              "      <th>6</th>\n",
              "      <td>Apple Jacks</td>\n",
              "      <td>K</td>\n",
              "      <td>C</td>\n",
              "      <td>110</td>\n",
              "      <td>2</td>\n",
              "      <td>0</td>\n",
              "      <td>125</td>\n",
              "      <td>1.0</td>\n",
              "      <td>11.0</td>\n",
              "      <td>14</td>\n",
              "      <td>30</td>\n",
              "      <td>25</td>\n",
              "      <td>2</td>\n",
              "      <td>1.00</td>\n",
              "      <td>1.00</td>\n",
              "      <td>33.174094</td>\n",
              "    </tr>\n",
              "    <tr>\n",
              "      <th>16</th>\n",
              "      <td>Corn Flakes</td>\n",
              "      <td>K</td>\n",
              "      <td>C</td>\n",
              "      <td>100</td>\n",
              "      <td>2</td>\n",
              "      <td>0</td>\n",
              "      <td>290</td>\n",
              "      <td>1.0</td>\n",
              "      <td>21.0</td>\n",
              "      <td>2</td>\n",
              "      <td>35</td>\n",
              "      <td>25</td>\n",
              "      <td>1</td>\n",
              "      <td>1.00</td>\n",
              "      <td>1.00</td>\n",
              "      <td>45.863324</td>\n",
              "    </tr>\n",
              "    <tr>\n",
              "      <th>17</th>\n",
              "      <td>Corn Pops</td>\n",
              "      <td>K</td>\n",
              "      <td>C</td>\n",
              "      <td>110</td>\n",
              "      <td>1</td>\n",
              "      <td>0</td>\n",
              "      <td>90</td>\n",
              "      <td>1.0</td>\n",
              "      <td>13.0</td>\n",
              "      <td>12</td>\n",
              "      <td>20</td>\n",
              "      <td>25</td>\n",
              "      <td>2</td>\n",
              "      <td>1.00</td>\n",
              "      <td>1.00</td>\n",
              "      <td>35.782791</td>\n",
              "    </tr>\n",
              "    <tr>\n",
              "      <th>19</th>\n",
              "      <td>Cracklin' Oat Bran</td>\n",
              "      <td>K</td>\n",
              "      <td>C</td>\n",
              "      <td>110</td>\n",
              "      <td>3</td>\n",
              "      <td>3</td>\n",
              "      <td>140</td>\n",
              "      <td>4.0</td>\n",
              "      <td>10.0</td>\n",
              "      <td>7</td>\n",
              "      <td>160</td>\n",
              "      <td>25</td>\n",
              "      <td>3</td>\n",
              "      <td>1.00</td>\n",
              "      <td>0.50</td>\n",
              "      <td>40.448772</td>\n",
              "    </tr>\n",
              "    <tr>\n",
              "      <th>21</th>\n",
              "      <td>Crispix</td>\n",
              "      <td>K</td>\n",
              "      <td>C</td>\n",
              "      <td>110</td>\n",
              "      <td>2</td>\n",
              "      <td>0</td>\n",
              "      <td>220</td>\n",
              "      <td>1.0</td>\n",
              "      <td>21.0</td>\n",
              "      <td>3</td>\n",
              "      <td>30</td>\n",
              "      <td>25</td>\n",
              "      <td>3</td>\n",
              "      <td>1.00</td>\n",
              "      <td>1.00</td>\n",
              "      <td>46.895644</td>\n",
              "    </tr>\n",
              "    <tr>\n",
              "      <th>24</th>\n",
              "      <td>Froot Loops</td>\n",
              "      <td>K</td>\n",
              "      <td>C</td>\n",
              "      <td>110</td>\n",
              "      <td>2</td>\n",
              "      <td>1</td>\n",
              "      <td>125</td>\n",
              "      <td>1.0</td>\n",
              "      <td>11.0</td>\n",
              "      <td>13</td>\n",
              "      <td>30</td>\n",
              "      <td>25</td>\n",
              "      <td>2</td>\n",
              "      <td>1.00</td>\n",
              "      <td>1.00</td>\n",
              "      <td>32.207582</td>\n",
              "    </tr>\n",
              "    <tr>\n",
              "      <th>25</th>\n",
              "      <td>Frosted Flakes</td>\n",
              "      <td>K</td>\n",
              "      <td>C</td>\n",
              "      <td>110</td>\n",
              "      <td>1</td>\n",
              "      <td>0</td>\n",
              "      <td>200</td>\n",
              "      <td>1.0</td>\n",
              "      <td>14.0</td>\n",
              "      <td>11</td>\n",
              "      <td>25</td>\n",
              "      <td>25</td>\n",
              "      <td>1</td>\n",
              "      <td>1.00</td>\n",
              "      <td>0.75</td>\n",
              "      <td>31.435973</td>\n",
              "    </tr>\n",
              "    <tr>\n",
              "      <th>26</th>\n",
              "      <td>Frosted Mini-Wheats</td>\n",
              "      <td>K</td>\n",
              "      <td>C</td>\n",
              "      <td>100</td>\n",
              "      <td>3</td>\n",
              "      <td>0</td>\n",
              "      <td>0</td>\n",
              "      <td>3.0</td>\n",
              "      <td>14.0</td>\n",
              "      <td>7</td>\n",
              "      <td>100</td>\n",
              "      <td>25</td>\n",
              "      <td>2</td>\n",
              "      <td>1.00</td>\n",
              "      <td>0.80</td>\n",
              "      <td>58.345141</td>\n",
              "    </tr>\n",
              "    <tr>\n",
              "      <th>28</th>\n",
              "      <td>Fruitful Bran</td>\n",
              "      <td>K</td>\n",
              "      <td>C</td>\n",
              "      <td>120</td>\n",
              "      <td>3</td>\n",
              "      <td>0</td>\n",
              "      <td>240</td>\n",
              "      <td>5.0</td>\n",
              "      <td>14.0</td>\n",
              "      <td>12</td>\n",
              "      <td>190</td>\n",
              "      <td>25</td>\n",
              "      <td>3</td>\n",
              "      <td>1.33</td>\n",
              "      <td>0.67</td>\n",
              "      <td>41.015492</td>\n",
              "    </tr>\n",
              "    <tr>\n",
              "      <th>38</th>\n",
              "      <td>Just Right Crunchy  Nuggets</td>\n",
              "      <td>K</td>\n",
              "      <td>C</td>\n",
              "      <td>110</td>\n",
              "      <td>2</td>\n",
              "      <td>1</td>\n",
              "      <td>170</td>\n",
              "      <td>1.0</td>\n",
              "      <td>17.0</td>\n",
              "      <td>6</td>\n",
              "      <td>60</td>\n",
              "      <td>100</td>\n",
              "      <td>3</td>\n",
              "      <td>1.00</td>\n",
              "      <td>1.00</td>\n",
              "      <td>36.523683</td>\n",
              "    </tr>\n",
              "    <tr>\n",
              "      <th>39</th>\n",
              "      <td>Just Right Fruit &amp; Nut</td>\n",
              "      <td>K</td>\n",
              "      <td>C</td>\n",
              "      <td>140</td>\n",
              "      <td>3</td>\n",
              "      <td>1</td>\n",
              "      <td>170</td>\n",
              "      <td>2.0</td>\n",
              "      <td>20.0</td>\n",
              "      <td>9</td>\n",
              "      <td>95</td>\n",
              "      <td>100</td>\n",
              "      <td>3</td>\n",
              "      <td>1.30</td>\n",
              "      <td>0.75</td>\n",
              "      <td>36.471512</td>\n",
              "    </tr>\n",
              "    <tr>\n",
              "      <th>46</th>\n",
              "      <td>Mueslix Crispy Blend</td>\n",
              "      <td>K</td>\n",
              "      <td>C</td>\n",
              "      <td>160</td>\n",
              "      <td>3</td>\n",
              "      <td>2</td>\n",
              "      <td>150</td>\n",
              "      <td>3.0</td>\n",
              "      <td>17.0</td>\n",
              "      <td>13</td>\n",
              "      <td>160</td>\n",
              "      <td>25</td>\n",
              "      <td>3</td>\n",
              "      <td>1.50</td>\n",
              "      <td>0.67</td>\n",
              "      <td>30.313351</td>\n",
              "    </tr>\n",
              "    <tr>\n",
              "      <th>48</th>\n",
              "      <td>Nut&amp;Honey Crunch</td>\n",
              "      <td>K</td>\n",
              "      <td>C</td>\n",
              "      <td>120</td>\n",
              "      <td>2</td>\n",
              "      <td>1</td>\n",
              "      <td>190</td>\n",
              "      <td>0.0</td>\n",
              "      <td>15.0</td>\n",
              "      <td>9</td>\n",
              "      <td>40</td>\n",
              "      <td>25</td>\n",
              "      <td>2</td>\n",
              "      <td>1.00</td>\n",
              "      <td>0.67</td>\n",
              "      <td>29.924285</td>\n",
              "    </tr>\n",
              "    <tr>\n",
              "      <th>49</th>\n",
              "      <td>Nutri-Grain Almond-Raisin</td>\n",
              "      <td>K</td>\n",
              "      <td>C</td>\n",
              "      <td>140</td>\n",
              "      <td>3</td>\n",
              "      <td>2</td>\n",
              "      <td>220</td>\n",
              "      <td>3.0</td>\n",
              "      <td>21.0</td>\n",
              "      <td>7</td>\n",
              "      <td>130</td>\n",
              "      <td>25</td>\n",
              "      <td>3</td>\n",
              "      <td>1.33</td>\n",
              "      <td>0.67</td>\n",
              "      <td>40.692320</td>\n",
              "    </tr>\n",
              "    <tr>\n",
              "      <th>50</th>\n",
              "      <td>Nutri-grain Wheat</td>\n",
              "      <td>K</td>\n",
              "      <td>C</td>\n",
              "      <td>90</td>\n",
              "      <td>3</td>\n",
              "      <td>0</td>\n",
              "      <td>170</td>\n",
              "      <td>3.0</td>\n",
              "      <td>18.0</td>\n",
              "      <td>2</td>\n",
              "      <td>90</td>\n",
              "      <td>25</td>\n",
              "      <td>3</td>\n",
              "      <td>1.00</td>\n",
              "      <td>1.00</td>\n",
              "      <td>59.642837</td>\n",
              "    </tr>\n",
              "    <tr>\n",
              "      <th>53</th>\n",
              "      <td>Product 19</td>\n",
              "      <td>K</td>\n",
              "      <td>C</td>\n",
              "      <td>100</td>\n",
              "      <td>3</td>\n",
              "      <td>0</td>\n",
              "      <td>320</td>\n",
              "      <td>1.0</td>\n",
              "      <td>20.0</td>\n",
              "      <td>3</td>\n",
              "      <td>45</td>\n",
              "      <td>100</td>\n",
              "      <td>3</td>\n",
              "      <td>1.00</td>\n",
              "      <td>1.00</td>\n",
              "      <td>41.503540</td>\n",
              "    </tr>\n",
              "    <tr>\n",
              "      <th>58</th>\n",
              "      <td>Raisin Bran</td>\n",
              "      <td>K</td>\n",
              "      <td>C</td>\n",
              "      <td>120</td>\n",
              "      <td>3</td>\n",
              "      <td>1</td>\n",
              "      <td>210</td>\n",
              "      <td>5.0</td>\n",
              "      <td>14.0</td>\n",
              "      <td>12</td>\n",
              "      <td>240</td>\n",
              "      <td>25</td>\n",
              "      <td>2</td>\n",
              "      <td>1.33</td>\n",
              "      <td>0.75</td>\n",
              "      <td>39.259197</td>\n",
              "    </tr>\n",
              "    <tr>\n",
              "      <th>60</th>\n",
              "      <td>Raisin Squares</td>\n",
              "      <td>K</td>\n",
              "      <td>C</td>\n",
              "      <td>90</td>\n",
              "      <td>2</td>\n",
              "      <td>0</td>\n",
              "      <td>0</td>\n",
              "      <td>2.0</td>\n",
              "      <td>15.0</td>\n",
              "      <td>6</td>\n",
              "      <td>110</td>\n",
              "      <td>25</td>\n",
              "      <td>3</td>\n",
              "      <td>1.00</td>\n",
              "      <td>0.50</td>\n",
              "      <td>55.333142</td>\n",
              "    </tr>\n",
              "    <tr>\n",
              "      <th>62</th>\n",
              "      <td>Rice Krispies</td>\n",
              "      <td>K</td>\n",
              "      <td>C</td>\n",
              "      <td>110</td>\n",
              "      <td>2</td>\n",
              "      <td>0</td>\n",
              "      <td>290</td>\n",
              "      <td>0.0</td>\n",
              "      <td>22.0</td>\n",
              "      <td>3</td>\n",
              "      <td>35</td>\n",
              "      <td>25</td>\n",
              "      <td>1</td>\n",
              "      <td>1.00</td>\n",
              "      <td>1.00</td>\n",
              "      <td>40.560159</td>\n",
              "    </tr>\n",
              "    <tr>\n",
              "      <th>66</th>\n",
              "      <td>Smacks</td>\n",
              "      <td>K</td>\n",
              "      <td>C</td>\n",
              "      <td>110</td>\n",
              "      <td>2</td>\n",
              "      <td>1</td>\n",
              "      <td>70</td>\n",
              "      <td>1.0</td>\n",
              "      <td>9.0</td>\n",
              "      <td>15</td>\n",
              "      <td>40</td>\n",
              "      <td>25</td>\n",
              "      <td>2</td>\n",
              "      <td>1.00</td>\n",
              "      <td>0.75</td>\n",
              "      <td>31.230054</td>\n",
              "    </tr>\n",
              "    <tr>\n",
              "      <th>67</th>\n",
              "      <td>Special K</td>\n",
              "      <td>K</td>\n",
              "      <td>C</td>\n",
              "      <td>110</td>\n",
              "      <td>6</td>\n",
              "      <td>0</td>\n",
              "      <td>230</td>\n",
              "      <td>1.0</td>\n",
              "      <td>16.0</td>\n",
              "      <td>3</td>\n",
              "      <td>55</td>\n",
              "      <td>25</td>\n",
              "      <td>1</td>\n",
              "      <td>1.00</td>\n",
              "      <td>1.00</td>\n",
              "      <td>53.131324</td>\n",
              "    </tr>\n",
              "  </tbody>\n",
              "</table>\n",
              "</div>"
            ],
            "text/plain": [
              "                           name mfr type  ...  weight  cups     rating\n",
              "2                      All-Bran   K    C  ...    1.00  0.33  59.425505\n",
              "3     All-Bran with Extra Fiber   K    C  ...    1.00  0.50  93.704912\n",
              "6                   Apple Jacks   K    C  ...    1.00  1.00  33.174094\n",
              "16                  Corn Flakes   K    C  ...    1.00  1.00  45.863324\n",
              "17                    Corn Pops   K    C  ...    1.00  1.00  35.782791\n",
              "19           Cracklin' Oat Bran   K    C  ...    1.00  0.50  40.448772\n",
              "21                      Crispix   K    C  ...    1.00  1.00  46.895644\n",
              "24                  Froot Loops   K    C  ...    1.00  1.00  32.207582\n",
              "25               Frosted Flakes   K    C  ...    1.00  0.75  31.435973\n",
              "26          Frosted Mini-Wheats   K    C  ...    1.00  0.80  58.345141\n",
              "28                Fruitful Bran   K    C  ...    1.33  0.67  41.015492\n",
              "38  Just Right Crunchy  Nuggets   K    C  ...    1.00  1.00  36.523683\n",
              "39       Just Right Fruit & Nut   K    C  ...    1.30  0.75  36.471512\n",
              "46         Mueslix Crispy Blend   K    C  ...    1.50  0.67  30.313351\n",
              "48             Nut&Honey Crunch   K    C  ...    1.00  0.67  29.924285\n",
              "49    Nutri-Grain Almond-Raisin   K    C  ...    1.33  0.67  40.692320\n",
              "50            Nutri-grain Wheat   K    C  ...    1.00  1.00  59.642837\n",
              "53                   Product 19   K    C  ...    1.00  1.00  41.503540\n",
              "58                  Raisin Bran   K    C  ...    1.33  0.75  39.259197\n",
              "60               Raisin Squares   K    C  ...    1.00  0.50  55.333142\n",
              "62                Rice Krispies   K    C  ...    1.00  1.00  40.560159\n",
              "66                       Smacks   K    C  ...    1.00  0.75  31.230054\n",
              "67                    Special K   K    C  ...    1.00  1.00  53.131324\n",
              "\n",
              "[23 rows x 16 columns]"
            ]
          },
          "metadata": {
            "tags": []
          },
          "execution_count": 25
        }
      ]
    },
    {
      "cell_type": "code",
      "metadata": {
        "colab": {
          "base_uri": "https://localhost:8080/",
          "height": 205
        },
        "id": "0reClZuWC95c",
        "outputId": "b2c622a7-6a80-47dc-c919-a4ad39ce17c3"
      },
      "source": [
        "%%time\r\n",
        "cerals_dask[cerals_dask.mfr.isin(['K'])]"
      ],
      "execution_count": 26,
      "outputs": [
        {
          "output_type": "stream",
          "text": [
            "CPU times: user 4.06 ms, sys: 13 µs, total: 4.08 ms\n",
            "Wall time: 4.99 ms\n"
          ],
          "name": "stdout"
        },
        {
          "output_type": "execute_result",
          "data": {
            "text/html": [
              "<div><strong>Dask DataFrame Structure:</strong></div>\n",
              "<div>\n",
              "<style scoped>\n",
              "    .dataframe tbody tr th:only-of-type {\n",
              "        vertical-align: middle;\n",
              "    }\n",
              "\n",
              "    .dataframe tbody tr th {\n",
              "        vertical-align: top;\n",
              "    }\n",
              "\n",
              "    .dataframe thead th {\n",
              "        text-align: right;\n",
              "    }\n",
              "</style>\n",
              "<table border=\"1\" class=\"dataframe\">\n",
              "  <thead>\n",
              "    <tr style=\"text-align: right;\">\n",
              "      <th></th>\n",
              "      <th>name</th>\n",
              "      <th>mfr</th>\n",
              "      <th>type</th>\n",
              "      <th>calories</th>\n",
              "      <th>protein</th>\n",
              "      <th>fat</th>\n",
              "      <th>sodium</th>\n",
              "      <th>fiber</th>\n",
              "      <th>carbo</th>\n",
              "      <th>sugars</th>\n",
              "      <th>potass</th>\n",
              "      <th>vitamins</th>\n",
              "      <th>shelf</th>\n",
              "      <th>weight</th>\n",
              "      <th>cups</th>\n",
              "      <th>rating</th>\n",
              "    </tr>\n",
              "    <tr>\n",
              "      <th>npartitions=1</th>\n",
              "      <th></th>\n",
              "      <th></th>\n",
              "      <th></th>\n",
              "      <th></th>\n",
              "      <th></th>\n",
              "      <th></th>\n",
              "      <th></th>\n",
              "      <th></th>\n",
              "      <th></th>\n",
              "      <th></th>\n",
              "      <th></th>\n",
              "      <th></th>\n",
              "      <th></th>\n",
              "      <th></th>\n",
              "      <th></th>\n",
              "      <th></th>\n",
              "    </tr>\n",
              "  </thead>\n",
              "  <tbody>\n",
              "    <tr>\n",
              "      <th></th>\n",
              "      <td>object</td>\n",
              "      <td>object</td>\n",
              "      <td>object</td>\n",
              "      <td>int64</td>\n",
              "      <td>int64</td>\n",
              "      <td>int64</td>\n",
              "      <td>int64</td>\n",
              "      <td>float64</td>\n",
              "      <td>float64</td>\n",
              "      <td>int64</td>\n",
              "      <td>int64</td>\n",
              "      <td>int64</td>\n",
              "      <td>int64</td>\n",
              "      <td>float64</td>\n",
              "      <td>float64</td>\n",
              "      <td>float64</td>\n",
              "    </tr>\n",
              "    <tr>\n",
              "      <th></th>\n",
              "      <td>...</td>\n",
              "      <td>...</td>\n",
              "      <td>...</td>\n",
              "      <td>...</td>\n",
              "      <td>...</td>\n",
              "      <td>...</td>\n",
              "      <td>...</td>\n",
              "      <td>...</td>\n",
              "      <td>...</td>\n",
              "      <td>...</td>\n",
              "      <td>...</td>\n",
              "      <td>...</td>\n",
              "      <td>...</td>\n",
              "      <td>...</td>\n",
              "      <td>...</td>\n",
              "      <td>...</td>\n",
              "    </tr>\n",
              "  </tbody>\n",
              "</table>\n",
              "</div>\n",
              "<div>Dask Name: getitem, 5 tasks</div>"
            ],
            "text/plain": [
              "Dask DataFrame Structure:\n",
              "                 name     mfr    type calories protein    fat sodium    fiber    carbo sugars potass vitamins  shelf   weight     cups   rating\n",
              "npartitions=1                                                                                                                                  \n",
              "               object  object  object    int64   int64  int64  int64  float64  float64  int64  int64    int64  int64  float64  float64  float64\n",
              "                  ...     ...     ...      ...     ...    ...    ...      ...      ...    ...    ...      ...    ...      ...      ...      ...\n",
              "Dask Name: getitem, 5 tasks"
            ]
          },
          "metadata": {
            "tags": []
          },
          "execution_count": 26
        }
      ]
    },
    {
      "cell_type": "code",
      "metadata": {
        "colab": {
          "base_uri": "https://localhost:8080/",
          "height": 319
        },
        "id": "_uAA4hKZDWt9",
        "outputId": "00cd7141-0e8b-4572-c0eb-f6c81d48712f"
      },
      "source": [
        "#Groupby \r\n",
        "\r\n",
        "%%time\r\n",
        "cerals_pandas.groupby(cerals_pandas.mfr).max()"
      ],
      "execution_count": 27,
      "outputs": [
        {
          "output_type": "stream",
          "text": [
            "CPU times: user 19.3 ms, sys: 0 ns, total: 19.3 ms\n",
            "Wall time: 20 ms\n"
          ],
          "name": "stdout"
        },
        {
          "output_type": "execute_result",
          "data": {
            "text/html": [
              "<div>\n",
              "<style scoped>\n",
              "    .dataframe tbody tr th:only-of-type {\n",
              "        vertical-align: middle;\n",
              "    }\n",
              "\n",
              "    .dataframe tbody tr th {\n",
              "        vertical-align: top;\n",
              "    }\n",
              "\n",
              "    .dataframe thead th {\n",
              "        text-align: right;\n",
              "    }\n",
              "</style>\n",
              "<table border=\"1\" class=\"dataframe\">\n",
              "  <thead>\n",
              "    <tr style=\"text-align: right;\">\n",
              "      <th></th>\n",
              "      <th>name</th>\n",
              "      <th>type</th>\n",
              "      <th>calories</th>\n",
              "      <th>protein</th>\n",
              "      <th>fat</th>\n",
              "      <th>sodium</th>\n",
              "      <th>fiber</th>\n",
              "      <th>carbo</th>\n",
              "      <th>sugars</th>\n",
              "      <th>potass</th>\n",
              "      <th>vitamins</th>\n",
              "      <th>shelf</th>\n",
              "      <th>weight</th>\n",
              "      <th>cups</th>\n",
              "      <th>rating</th>\n",
              "    </tr>\n",
              "    <tr>\n",
              "      <th>mfr</th>\n",
              "      <th></th>\n",
              "      <th></th>\n",
              "      <th></th>\n",
              "      <th></th>\n",
              "      <th></th>\n",
              "      <th></th>\n",
              "      <th></th>\n",
              "      <th></th>\n",
              "      <th></th>\n",
              "      <th></th>\n",
              "      <th></th>\n",
              "      <th></th>\n",
              "      <th></th>\n",
              "      <th></th>\n",
              "      <th></th>\n",
              "    </tr>\n",
              "  </thead>\n",
              "  <tbody>\n",
              "    <tr>\n",
              "      <th>A</th>\n",
              "      <td>Maypo</td>\n",
              "      <td>H</td>\n",
              "      <td>100</td>\n",
              "      <td>4</td>\n",
              "      <td>1</td>\n",
              "      <td>0</td>\n",
              "      <td>0.0</td>\n",
              "      <td>16.0</td>\n",
              "      <td>3</td>\n",
              "      <td>95</td>\n",
              "      <td>25</td>\n",
              "      <td>2</td>\n",
              "      <td>1.00</td>\n",
              "      <td>1.00</td>\n",
              "      <td>54.850917</td>\n",
              "    </tr>\n",
              "    <tr>\n",
              "      <th>G</th>\n",
              "      <td>Wheaties Honey Gold</td>\n",
              "      <td>C</td>\n",
              "      <td>140</td>\n",
              "      <td>6</td>\n",
              "      <td>3</td>\n",
              "      <td>290</td>\n",
              "      <td>4.0</td>\n",
              "      <td>21.0</td>\n",
              "      <td>14</td>\n",
              "      <td>230</td>\n",
              "      <td>100</td>\n",
              "      <td>3</td>\n",
              "      <td>1.50</td>\n",
              "      <td>1.50</td>\n",
              "      <td>51.592193</td>\n",
              "    </tr>\n",
              "    <tr>\n",
              "      <th>K</th>\n",
              "      <td>Special K</td>\n",
              "      <td>C</td>\n",
              "      <td>160</td>\n",
              "      <td>6</td>\n",
              "      <td>3</td>\n",
              "      <td>320</td>\n",
              "      <td>14.0</td>\n",
              "      <td>22.0</td>\n",
              "      <td>15</td>\n",
              "      <td>330</td>\n",
              "      <td>100</td>\n",
              "      <td>3</td>\n",
              "      <td>1.50</td>\n",
              "      <td>1.00</td>\n",
              "      <td>93.704912</td>\n",
              "    </tr>\n",
              "    <tr>\n",
              "      <th>N</th>\n",
              "      <td>Strawberry Fruit Wheats</td>\n",
              "      <td>H</td>\n",
              "      <td>100</td>\n",
              "      <td>4</td>\n",
              "      <td>1</td>\n",
              "      <td>130</td>\n",
              "      <td>10.0</td>\n",
              "      <td>21.0</td>\n",
              "      <td>6</td>\n",
              "      <td>280</td>\n",
              "      <td>25</td>\n",
              "      <td>3</td>\n",
              "      <td>1.00</td>\n",
              "      <td>1.00</td>\n",
              "      <td>74.472949</td>\n",
              "    </tr>\n",
              "    <tr>\n",
              "      <th>P</th>\n",
              "      <td>Post Nat. Raisin Bran</td>\n",
              "      <td>C</td>\n",
              "      <td>120</td>\n",
              "      <td>3</td>\n",
              "      <td>3</td>\n",
              "      <td>210</td>\n",
              "      <td>6.0</td>\n",
              "      <td>17.0</td>\n",
              "      <td>15</td>\n",
              "      <td>260</td>\n",
              "      <td>25</td>\n",
              "      <td>3</td>\n",
              "      <td>1.33</td>\n",
              "      <td>1.33</td>\n",
              "      <td>53.371007</td>\n",
              "    </tr>\n",
              "    <tr>\n",
              "      <th>Q</th>\n",
              "      <td>Quaker Oatmeal</td>\n",
              "      <td>H</td>\n",
              "      <td>120</td>\n",
              "      <td>5</td>\n",
              "      <td>5</td>\n",
              "      <td>220</td>\n",
              "      <td>2.7</td>\n",
              "      <td>14.0</td>\n",
              "      <td>12</td>\n",
              "      <td>135</td>\n",
              "      <td>25</td>\n",
              "      <td>3</td>\n",
              "      <td>1.00</td>\n",
              "      <td>1.00</td>\n",
              "      <td>63.005645</td>\n",
              "    </tr>\n",
              "    <tr>\n",
              "      <th>R</th>\n",
              "      <td>Wheat Chex</td>\n",
              "      <td>C</td>\n",
              "      <td>150</td>\n",
              "      <td>4</td>\n",
              "      <td>3</td>\n",
              "      <td>280</td>\n",
              "      <td>4.0</td>\n",
              "      <td>23.0</td>\n",
              "      <td>11</td>\n",
              "      <td>170</td>\n",
              "      <td>25</td>\n",
              "      <td>3</td>\n",
              "      <td>1.00</td>\n",
              "      <td>1.13</td>\n",
              "      <td>49.787445</td>\n",
              "    </tr>\n",
              "  </tbody>\n",
              "</table>\n",
              "</div>"
            ],
            "text/plain": [
              "                        name type  calories  ...  weight  cups     rating\n",
              "mfr                                          ...                         \n",
              "A                      Maypo    H       100  ...    1.00  1.00  54.850917\n",
              "G        Wheaties Honey Gold    C       140  ...    1.50  1.50  51.592193\n",
              "K                  Special K    C       160  ...    1.50  1.00  93.704912\n",
              "N    Strawberry Fruit Wheats    H       100  ...    1.00  1.00  74.472949\n",
              "P      Post Nat. Raisin Bran    C       120  ...    1.33  1.33  53.371007\n",
              "Q             Quaker Oatmeal    H       120  ...    1.00  1.00  63.005645\n",
              "R                 Wheat Chex    C       150  ...    1.00  1.13  49.787445\n",
              "\n",
              "[7 rows x 15 columns]"
            ]
          },
          "metadata": {
            "tags": []
          },
          "execution_count": 27
        }
      ]
    },
    {
      "cell_type": "code",
      "metadata": {
        "colab": {
          "base_uri": "https://localhost:8080/",
          "height": 205
        },
        "id": "254bDQnyDWwO",
        "outputId": "2970d8af-ab1c-4cfe-d2b6-c75b8b2a0b12"
      },
      "source": [
        "%%time\r\n",
        "cerals_dask.groupby(cerals_dask.mfr).max()"
      ],
      "execution_count": 28,
      "outputs": [
        {
          "output_type": "stream",
          "text": [
            "CPU times: user 22.5 ms, sys: 0 ns, total: 22.5 ms\n",
            "Wall time: 23.3 ms\n"
          ],
          "name": "stdout"
        },
        {
          "output_type": "execute_result",
          "data": {
            "text/html": [
              "<div><strong>Dask DataFrame Structure:</strong></div>\n",
              "<div>\n",
              "<style scoped>\n",
              "    .dataframe tbody tr th:only-of-type {\n",
              "        vertical-align: middle;\n",
              "    }\n",
              "\n",
              "    .dataframe tbody tr th {\n",
              "        vertical-align: top;\n",
              "    }\n",
              "\n",
              "    .dataframe thead th {\n",
              "        text-align: right;\n",
              "    }\n",
              "</style>\n",
              "<table border=\"1\" class=\"dataframe\">\n",
              "  <thead>\n",
              "    <tr style=\"text-align: right;\">\n",
              "      <th></th>\n",
              "      <th>name</th>\n",
              "      <th>type</th>\n",
              "      <th>calories</th>\n",
              "      <th>protein</th>\n",
              "      <th>fat</th>\n",
              "      <th>sodium</th>\n",
              "      <th>fiber</th>\n",
              "      <th>carbo</th>\n",
              "      <th>sugars</th>\n",
              "      <th>potass</th>\n",
              "      <th>vitamins</th>\n",
              "      <th>shelf</th>\n",
              "      <th>weight</th>\n",
              "      <th>cups</th>\n",
              "      <th>rating</th>\n",
              "    </tr>\n",
              "    <tr>\n",
              "      <th>npartitions=1</th>\n",
              "      <th></th>\n",
              "      <th></th>\n",
              "      <th></th>\n",
              "      <th></th>\n",
              "      <th></th>\n",
              "      <th></th>\n",
              "      <th></th>\n",
              "      <th></th>\n",
              "      <th></th>\n",
              "      <th></th>\n",
              "      <th></th>\n",
              "      <th></th>\n",
              "      <th></th>\n",
              "      <th></th>\n",
              "      <th></th>\n",
              "    </tr>\n",
              "  </thead>\n",
              "  <tbody>\n",
              "    <tr>\n",
              "      <th></th>\n",
              "      <td>object</td>\n",
              "      <td>object</td>\n",
              "      <td>int64</td>\n",
              "      <td>int64</td>\n",
              "      <td>int64</td>\n",
              "      <td>int64</td>\n",
              "      <td>float64</td>\n",
              "      <td>float64</td>\n",
              "      <td>int64</td>\n",
              "      <td>int64</td>\n",
              "      <td>int64</td>\n",
              "      <td>int64</td>\n",
              "      <td>float64</td>\n",
              "      <td>float64</td>\n",
              "      <td>float64</td>\n",
              "    </tr>\n",
              "    <tr>\n",
              "      <th></th>\n",
              "      <td>...</td>\n",
              "      <td>...</td>\n",
              "      <td>...</td>\n",
              "      <td>...</td>\n",
              "      <td>...</td>\n",
              "      <td>...</td>\n",
              "      <td>...</td>\n",
              "      <td>...</td>\n",
              "      <td>...</td>\n",
              "      <td>...</td>\n",
              "      <td>...</td>\n",
              "      <td>...</td>\n",
              "      <td>...</td>\n",
              "      <td>...</td>\n",
              "      <td>...</td>\n",
              "    </tr>\n",
              "  </tbody>\n",
              "</table>\n",
              "</div>\n",
              "<div>Dask Name: dataframe-groupby-max-agg, 3 tasks</div>"
            ],
            "text/plain": [
              "Dask DataFrame Structure:\n",
              "                 name    type calories protein    fat sodium    fiber    carbo sugars potass vitamins  shelf   weight     cups   rating\n",
              "npartitions=1                                                                                                                          \n",
              "               object  object    int64   int64  int64  int64  float64  float64  int64  int64    int64  int64  float64  float64  float64\n",
              "                  ...     ...      ...     ...    ...    ...      ...      ...    ...    ...      ...    ...      ...      ...      ...\n",
              "Dask Name: dataframe-groupby-max-agg, 3 tasks"
            ]
          },
          "metadata": {
            "tags": []
          },
          "execution_count": 28
        }
      ]
    },
    {
      "cell_type": "code",
      "metadata": {
        "colab": {
          "base_uri": "https://localhost:8080/",
          "height": 284
        },
        "id": "b5GyyvNqD13P",
        "outputId": "baaf0dc0-cec6-42ac-fc61-53cf33acb2a8"
      },
      "source": [
        "cerals_dask.groupby(cerals_dask.mfr).max().compute()"
      ],
      "execution_count": 29,
      "outputs": [
        {
          "output_type": "execute_result",
          "data": {
            "text/html": [
              "<div>\n",
              "<style scoped>\n",
              "    .dataframe tbody tr th:only-of-type {\n",
              "        vertical-align: middle;\n",
              "    }\n",
              "\n",
              "    .dataframe tbody tr th {\n",
              "        vertical-align: top;\n",
              "    }\n",
              "\n",
              "    .dataframe thead th {\n",
              "        text-align: right;\n",
              "    }\n",
              "</style>\n",
              "<table border=\"1\" class=\"dataframe\">\n",
              "  <thead>\n",
              "    <tr style=\"text-align: right;\">\n",
              "      <th></th>\n",
              "      <th>name</th>\n",
              "      <th>type</th>\n",
              "      <th>calories</th>\n",
              "      <th>protein</th>\n",
              "      <th>fat</th>\n",
              "      <th>sodium</th>\n",
              "      <th>fiber</th>\n",
              "      <th>carbo</th>\n",
              "      <th>sugars</th>\n",
              "      <th>potass</th>\n",
              "      <th>vitamins</th>\n",
              "      <th>shelf</th>\n",
              "      <th>weight</th>\n",
              "      <th>cups</th>\n",
              "      <th>rating</th>\n",
              "    </tr>\n",
              "    <tr>\n",
              "      <th>mfr</th>\n",
              "      <th></th>\n",
              "      <th></th>\n",
              "      <th></th>\n",
              "      <th></th>\n",
              "      <th></th>\n",
              "      <th></th>\n",
              "      <th></th>\n",
              "      <th></th>\n",
              "      <th></th>\n",
              "      <th></th>\n",
              "      <th></th>\n",
              "      <th></th>\n",
              "      <th></th>\n",
              "      <th></th>\n",
              "      <th></th>\n",
              "    </tr>\n",
              "  </thead>\n",
              "  <tbody>\n",
              "    <tr>\n",
              "      <th>A</th>\n",
              "      <td>Maypo</td>\n",
              "      <td>H</td>\n",
              "      <td>100</td>\n",
              "      <td>4</td>\n",
              "      <td>1</td>\n",
              "      <td>0</td>\n",
              "      <td>0.0</td>\n",
              "      <td>16.0</td>\n",
              "      <td>3</td>\n",
              "      <td>95</td>\n",
              "      <td>25</td>\n",
              "      <td>2</td>\n",
              "      <td>1.00</td>\n",
              "      <td>1.00</td>\n",
              "      <td>54.850917</td>\n",
              "    </tr>\n",
              "    <tr>\n",
              "      <th>G</th>\n",
              "      <td>Wheaties Honey Gold</td>\n",
              "      <td>C</td>\n",
              "      <td>140</td>\n",
              "      <td>6</td>\n",
              "      <td>3</td>\n",
              "      <td>290</td>\n",
              "      <td>4.0</td>\n",
              "      <td>21.0</td>\n",
              "      <td>14</td>\n",
              "      <td>230</td>\n",
              "      <td>100</td>\n",
              "      <td>3</td>\n",
              "      <td>1.50</td>\n",
              "      <td>1.50</td>\n",
              "      <td>51.592193</td>\n",
              "    </tr>\n",
              "    <tr>\n",
              "      <th>K</th>\n",
              "      <td>Special K</td>\n",
              "      <td>C</td>\n",
              "      <td>160</td>\n",
              "      <td>6</td>\n",
              "      <td>3</td>\n",
              "      <td>320</td>\n",
              "      <td>14.0</td>\n",
              "      <td>22.0</td>\n",
              "      <td>15</td>\n",
              "      <td>330</td>\n",
              "      <td>100</td>\n",
              "      <td>3</td>\n",
              "      <td>1.50</td>\n",
              "      <td>1.00</td>\n",
              "      <td>93.704912</td>\n",
              "    </tr>\n",
              "    <tr>\n",
              "      <th>N</th>\n",
              "      <td>Strawberry Fruit Wheats</td>\n",
              "      <td>H</td>\n",
              "      <td>100</td>\n",
              "      <td>4</td>\n",
              "      <td>1</td>\n",
              "      <td>130</td>\n",
              "      <td>10.0</td>\n",
              "      <td>21.0</td>\n",
              "      <td>6</td>\n",
              "      <td>280</td>\n",
              "      <td>25</td>\n",
              "      <td>3</td>\n",
              "      <td>1.00</td>\n",
              "      <td>1.00</td>\n",
              "      <td>74.472949</td>\n",
              "    </tr>\n",
              "    <tr>\n",
              "      <th>P</th>\n",
              "      <td>Post Nat. Raisin Bran</td>\n",
              "      <td>C</td>\n",
              "      <td>120</td>\n",
              "      <td>3</td>\n",
              "      <td>3</td>\n",
              "      <td>210</td>\n",
              "      <td>6.0</td>\n",
              "      <td>17.0</td>\n",
              "      <td>15</td>\n",
              "      <td>260</td>\n",
              "      <td>25</td>\n",
              "      <td>3</td>\n",
              "      <td>1.33</td>\n",
              "      <td>1.33</td>\n",
              "      <td>53.371007</td>\n",
              "    </tr>\n",
              "    <tr>\n",
              "      <th>Q</th>\n",
              "      <td>Quaker Oatmeal</td>\n",
              "      <td>H</td>\n",
              "      <td>120</td>\n",
              "      <td>5</td>\n",
              "      <td>5</td>\n",
              "      <td>220</td>\n",
              "      <td>2.7</td>\n",
              "      <td>14.0</td>\n",
              "      <td>12</td>\n",
              "      <td>135</td>\n",
              "      <td>25</td>\n",
              "      <td>3</td>\n",
              "      <td>1.00</td>\n",
              "      <td>1.00</td>\n",
              "      <td>63.005645</td>\n",
              "    </tr>\n",
              "    <tr>\n",
              "      <th>R</th>\n",
              "      <td>Wheat Chex</td>\n",
              "      <td>C</td>\n",
              "      <td>150</td>\n",
              "      <td>4</td>\n",
              "      <td>3</td>\n",
              "      <td>280</td>\n",
              "      <td>4.0</td>\n",
              "      <td>23.0</td>\n",
              "      <td>11</td>\n",
              "      <td>170</td>\n",
              "      <td>25</td>\n",
              "      <td>3</td>\n",
              "      <td>1.00</td>\n",
              "      <td>1.13</td>\n",
              "      <td>49.787445</td>\n",
              "    </tr>\n",
              "  </tbody>\n",
              "</table>\n",
              "</div>"
            ],
            "text/plain": [
              "                        name type  calories  ...  weight  cups     rating\n",
              "mfr                                          ...                         \n",
              "A                      Maypo    H       100  ...    1.00  1.00  54.850917\n",
              "G        Wheaties Honey Gold    C       140  ...    1.50  1.50  51.592193\n",
              "K                  Special K    C       160  ...    1.50  1.00  93.704912\n",
              "N    Strawberry Fruit Wheats    H       100  ...    1.00  1.00  74.472949\n",
              "P      Post Nat. Raisin Bran    C       120  ...    1.33  1.33  53.371007\n",
              "Q             Quaker Oatmeal    H       120  ...    1.00  1.00  63.005645\n",
              "R                 Wheat Chex    C       150  ...    1.00  1.13  49.787445\n",
              "\n",
              "[7 rows x 15 columns]"
            ]
          },
          "metadata": {
            "tags": []
          },
          "execution_count": 29
        }
      ]
    },
    {
      "cell_type": "code",
      "metadata": {
        "colab": {
          "base_uri": "https://localhost:8080/"
        },
        "id": "V55vPQZ5D_VT",
        "outputId": "5b41e3b8-37ec-4275-e3c2-01cafc2522dc"
      },
      "source": [
        "%%time\r\n",
        "cerals_pandas.shelf.value_counts()"
      ],
      "execution_count": 145,
      "outputs": [
        {
          "output_type": "stream",
          "text": [
            "CPU times: user 1.88 ms, sys: 0 ns, total: 1.88 ms\n",
            "Wall time: 6.23 ms\n"
          ],
          "name": "stdout"
        },
        {
          "output_type": "execute_result",
          "data": {
            "text/plain": [
              "3    36\n",
              "2    21\n",
              "1    20\n",
              "Name: shelf, dtype: int64"
            ]
          },
          "metadata": {
            "tags": []
          },
          "execution_count": 145
        }
      ]
    },
    {
      "cell_type": "code",
      "metadata": {
        "colab": {
          "base_uri": "https://localhost:8080/"
        },
        "id": "huSovH7UD_Y6",
        "outputId": "af45b3e1-1bd7-4c09-b320-bea0b54f6fe0"
      },
      "source": [
        "%%time\r\n",
        "cerals_dask.shelf.value_counts()"
      ],
      "execution_count": 142,
      "outputs": [
        {
          "output_type": "stream",
          "text": [
            "CPU times: user 2.93 ms, sys: 0 ns, total: 2.93 ms\n",
            "Wall time: 2.8 ms\n"
          ],
          "name": "stdout"
        },
        {
          "output_type": "execute_result",
          "data": {
            "text/plain": [
              "Dask Series Structure:\n",
              "npartitions=1\n",
              "    int64\n",
              "      ...\n",
              "Name: shelf, dtype: int64\n",
              "Dask Name: value-counts-agg, 4 tasks"
            ]
          },
          "metadata": {
            "tags": []
          },
          "execution_count": 142
        }
      ]
    },
    {
      "cell_type": "markdown",
      "metadata": {
        "id": "hImO80iiMJuI"
      },
      "source": [
        "## Works Slow"
      ]
    },
    {
      "cell_type": "code",
      "metadata": {
        "colab": {
          "base_uri": "https://localhost:8080/",
          "height": 466
        },
        "id": "G6Ze7blgMMCO",
        "outputId": "859b8e28-1bdd-4457-8295-88e53a223890"
      },
      "source": [
        "#setting index\r\n",
        "%%time\r\n",
        "cerals_pandas.set_index('name')"
      ],
      "execution_count": 32,
      "outputs": [
        {
          "output_type": "stream",
          "text": [
            "CPU times: user 1.62 ms, sys: 0 ns, total: 1.62 ms\n",
            "Wall time: 2.52 ms\n"
          ],
          "name": "stdout"
        },
        {
          "output_type": "execute_result",
          "data": {
            "text/html": [
              "<div>\n",
              "<style scoped>\n",
              "    .dataframe tbody tr th:only-of-type {\n",
              "        vertical-align: middle;\n",
              "    }\n",
              "\n",
              "    .dataframe tbody tr th {\n",
              "        vertical-align: top;\n",
              "    }\n",
              "\n",
              "    .dataframe thead th {\n",
              "        text-align: right;\n",
              "    }\n",
              "</style>\n",
              "<table border=\"1\" class=\"dataframe\">\n",
              "  <thead>\n",
              "    <tr style=\"text-align: right;\">\n",
              "      <th></th>\n",
              "      <th>mfr</th>\n",
              "      <th>type</th>\n",
              "      <th>calories</th>\n",
              "      <th>protein</th>\n",
              "      <th>fat</th>\n",
              "      <th>sodium</th>\n",
              "      <th>fiber</th>\n",
              "      <th>carbo</th>\n",
              "      <th>sugars</th>\n",
              "      <th>potass</th>\n",
              "      <th>vitamins</th>\n",
              "      <th>shelf</th>\n",
              "      <th>weight</th>\n",
              "      <th>cups</th>\n",
              "      <th>rating</th>\n",
              "    </tr>\n",
              "    <tr>\n",
              "      <th>name</th>\n",
              "      <th></th>\n",
              "      <th></th>\n",
              "      <th></th>\n",
              "      <th></th>\n",
              "      <th></th>\n",
              "      <th></th>\n",
              "      <th></th>\n",
              "      <th></th>\n",
              "      <th></th>\n",
              "      <th></th>\n",
              "      <th></th>\n",
              "      <th></th>\n",
              "      <th></th>\n",
              "      <th></th>\n",
              "      <th></th>\n",
              "    </tr>\n",
              "  </thead>\n",
              "  <tbody>\n",
              "    <tr>\n",
              "      <th>100% Bran</th>\n",
              "      <td>N</td>\n",
              "      <td>C</td>\n",
              "      <td>70</td>\n",
              "      <td>4</td>\n",
              "      <td>1</td>\n",
              "      <td>130</td>\n",
              "      <td>10.0</td>\n",
              "      <td>5.0</td>\n",
              "      <td>6</td>\n",
              "      <td>280</td>\n",
              "      <td>25</td>\n",
              "      <td>3</td>\n",
              "      <td>1.0</td>\n",
              "      <td>0.33</td>\n",
              "      <td>68.402973</td>\n",
              "    </tr>\n",
              "    <tr>\n",
              "      <th>100% Natural Bran</th>\n",
              "      <td>Q</td>\n",
              "      <td>C</td>\n",
              "      <td>120</td>\n",
              "      <td>3</td>\n",
              "      <td>5</td>\n",
              "      <td>15</td>\n",
              "      <td>2.0</td>\n",
              "      <td>8.0</td>\n",
              "      <td>8</td>\n",
              "      <td>135</td>\n",
              "      <td>0</td>\n",
              "      <td>3</td>\n",
              "      <td>1.0</td>\n",
              "      <td>1.00</td>\n",
              "      <td>33.983679</td>\n",
              "    </tr>\n",
              "    <tr>\n",
              "      <th>All-Bran</th>\n",
              "      <td>K</td>\n",
              "      <td>C</td>\n",
              "      <td>70</td>\n",
              "      <td>4</td>\n",
              "      <td>1</td>\n",
              "      <td>260</td>\n",
              "      <td>9.0</td>\n",
              "      <td>7.0</td>\n",
              "      <td>5</td>\n",
              "      <td>320</td>\n",
              "      <td>25</td>\n",
              "      <td>3</td>\n",
              "      <td>1.0</td>\n",
              "      <td>0.33</td>\n",
              "      <td>59.425505</td>\n",
              "    </tr>\n",
              "    <tr>\n",
              "      <th>All-Bran with Extra Fiber</th>\n",
              "      <td>K</td>\n",
              "      <td>C</td>\n",
              "      <td>50</td>\n",
              "      <td>4</td>\n",
              "      <td>0</td>\n",
              "      <td>140</td>\n",
              "      <td>14.0</td>\n",
              "      <td>8.0</td>\n",
              "      <td>0</td>\n",
              "      <td>330</td>\n",
              "      <td>25</td>\n",
              "      <td>3</td>\n",
              "      <td>1.0</td>\n",
              "      <td>0.50</td>\n",
              "      <td>93.704912</td>\n",
              "    </tr>\n",
              "    <tr>\n",
              "      <th>Almond Delight</th>\n",
              "      <td>R</td>\n",
              "      <td>C</td>\n",
              "      <td>110</td>\n",
              "      <td>2</td>\n",
              "      <td>2</td>\n",
              "      <td>200</td>\n",
              "      <td>1.0</td>\n",
              "      <td>14.0</td>\n",
              "      <td>8</td>\n",
              "      <td>-1</td>\n",
              "      <td>25</td>\n",
              "      <td>3</td>\n",
              "      <td>1.0</td>\n",
              "      <td>0.75</td>\n",
              "      <td>34.384843</td>\n",
              "    </tr>\n",
              "    <tr>\n",
              "      <th>...</th>\n",
              "      <td>...</td>\n",
              "      <td>...</td>\n",
              "      <td>...</td>\n",
              "      <td>...</td>\n",
              "      <td>...</td>\n",
              "      <td>...</td>\n",
              "      <td>...</td>\n",
              "      <td>...</td>\n",
              "      <td>...</td>\n",
              "      <td>...</td>\n",
              "      <td>...</td>\n",
              "      <td>...</td>\n",
              "      <td>...</td>\n",
              "      <td>...</td>\n",
              "      <td>...</td>\n",
              "    </tr>\n",
              "    <tr>\n",
              "      <th>Triples</th>\n",
              "      <td>G</td>\n",
              "      <td>C</td>\n",
              "      <td>110</td>\n",
              "      <td>2</td>\n",
              "      <td>1</td>\n",
              "      <td>250</td>\n",
              "      <td>0.0</td>\n",
              "      <td>21.0</td>\n",
              "      <td>3</td>\n",
              "      <td>60</td>\n",
              "      <td>25</td>\n",
              "      <td>3</td>\n",
              "      <td>1.0</td>\n",
              "      <td>0.75</td>\n",
              "      <td>39.106174</td>\n",
              "    </tr>\n",
              "    <tr>\n",
              "      <th>Trix</th>\n",
              "      <td>G</td>\n",
              "      <td>C</td>\n",
              "      <td>110</td>\n",
              "      <td>1</td>\n",
              "      <td>1</td>\n",
              "      <td>140</td>\n",
              "      <td>0.0</td>\n",
              "      <td>13.0</td>\n",
              "      <td>12</td>\n",
              "      <td>25</td>\n",
              "      <td>25</td>\n",
              "      <td>2</td>\n",
              "      <td>1.0</td>\n",
              "      <td>1.00</td>\n",
              "      <td>27.753301</td>\n",
              "    </tr>\n",
              "    <tr>\n",
              "      <th>Wheat Chex</th>\n",
              "      <td>R</td>\n",
              "      <td>C</td>\n",
              "      <td>100</td>\n",
              "      <td>3</td>\n",
              "      <td>1</td>\n",
              "      <td>230</td>\n",
              "      <td>3.0</td>\n",
              "      <td>17.0</td>\n",
              "      <td>3</td>\n",
              "      <td>115</td>\n",
              "      <td>25</td>\n",
              "      <td>1</td>\n",
              "      <td>1.0</td>\n",
              "      <td>0.67</td>\n",
              "      <td>49.787445</td>\n",
              "    </tr>\n",
              "    <tr>\n",
              "      <th>Wheaties</th>\n",
              "      <td>G</td>\n",
              "      <td>C</td>\n",
              "      <td>100</td>\n",
              "      <td>3</td>\n",
              "      <td>1</td>\n",
              "      <td>200</td>\n",
              "      <td>3.0</td>\n",
              "      <td>17.0</td>\n",
              "      <td>3</td>\n",
              "      <td>110</td>\n",
              "      <td>25</td>\n",
              "      <td>1</td>\n",
              "      <td>1.0</td>\n",
              "      <td>1.00</td>\n",
              "      <td>51.592193</td>\n",
              "    </tr>\n",
              "    <tr>\n",
              "      <th>Wheaties Honey Gold</th>\n",
              "      <td>G</td>\n",
              "      <td>C</td>\n",
              "      <td>110</td>\n",
              "      <td>2</td>\n",
              "      <td>1</td>\n",
              "      <td>200</td>\n",
              "      <td>1.0</td>\n",
              "      <td>16.0</td>\n",
              "      <td>8</td>\n",
              "      <td>60</td>\n",
              "      <td>25</td>\n",
              "      <td>1</td>\n",
              "      <td>1.0</td>\n",
              "      <td>0.75</td>\n",
              "      <td>36.187559</td>\n",
              "    </tr>\n",
              "  </tbody>\n",
              "</table>\n",
              "<p>77 rows × 15 columns</p>\n",
              "</div>"
            ],
            "text/plain": [
              "                          mfr type  calories  ...  weight  cups     rating\n",
              "name                                          ...                         \n",
              "100% Bran                   N    C        70  ...     1.0  0.33  68.402973\n",
              "100% Natural Bran           Q    C       120  ...     1.0  1.00  33.983679\n",
              "All-Bran                    K    C        70  ...     1.0  0.33  59.425505\n",
              "All-Bran with Extra Fiber   K    C        50  ...     1.0  0.50  93.704912\n",
              "Almond Delight              R    C       110  ...     1.0  0.75  34.384843\n",
              "...                        ..  ...       ...  ...     ...   ...        ...\n",
              "Triples                     G    C       110  ...     1.0  0.75  39.106174\n",
              "Trix                        G    C       110  ...     1.0  1.00  27.753301\n",
              "Wheat Chex                  R    C       100  ...     1.0  0.67  49.787445\n",
              "Wheaties                    G    C       100  ...     1.0  1.00  51.592193\n",
              "Wheaties Honey Gold         G    C       110  ...     1.0  0.75  36.187559\n",
              "\n",
              "[77 rows x 15 columns]"
            ]
          },
          "metadata": {
            "tags": []
          },
          "execution_count": 32
        }
      ]
    },
    {
      "cell_type": "code",
      "metadata": {
        "colab": {
          "base_uri": "https://localhost:8080/",
          "height": 205
        },
        "id": "fxaS_CTeMYIu",
        "outputId": "9789f681-4b8b-4687-9799-d35d243d04e2"
      },
      "source": [
        "%%time\r\n",
        "cerals_dask.set_index('name')"
      ],
      "execution_count": 33,
      "outputs": [
        {
          "output_type": "stream",
          "text": [
            "CPU times: user 22.1 ms, sys: 0 ns, total: 22.1 ms\n",
            "Wall time: 22.2 ms\n"
          ],
          "name": "stdout"
        },
        {
          "output_type": "execute_result",
          "data": {
            "text/html": [
              "<div><strong>Dask DataFrame Structure:</strong></div>\n",
              "<div>\n",
              "<style scoped>\n",
              "    .dataframe tbody tr th:only-of-type {\n",
              "        vertical-align: middle;\n",
              "    }\n",
              "\n",
              "    .dataframe tbody tr th {\n",
              "        vertical-align: top;\n",
              "    }\n",
              "\n",
              "    .dataframe thead th {\n",
              "        text-align: right;\n",
              "    }\n",
              "</style>\n",
              "<table border=\"1\" class=\"dataframe\">\n",
              "  <thead>\n",
              "    <tr style=\"text-align: right;\">\n",
              "      <th></th>\n",
              "      <th>mfr</th>\n",
              "      <th>type</th>\n",
              "      <th>calories</th>\n",
              "      <th>protein</th>\n",
              "      <th>fat</th>\n",
              "      <th>sodium</th>\n",
              "      <th>fiber</th>\n",
              "      <th>carbo</th>\n",
              "      <th>sugars</th>\n",
              "      <th>potass</th>\n",
              "      <th>vitamins</th>\n",
              "      <th>shelf</th>\n",
              "      <th>weight</th>\n",
              "      <th>cups</th>\n",
              "      <th>rating</th>\n",
              "    </tr>\n",
              "    <tr>\n",
              "      <th>npartitions=1</th>\n",
              "      <th></th>\n",
              "      <th></th>\n",
              "      <th></th>\n",
              "      <th></th>\n",
              "      <th></th>\n",
              "      <th></th>\n",
              "      <th></th>\n",
              "      <th></th>\n",
              "      <th></th>\n",
              "      <th></th>\n",
              "      <th></th>\n",
              "      <th></th>\n",
              "      <th></th>\n",
              "      <th></th>\n",
              "      <th></th>\n",
              "    </tr>\n",
              "  </thead>\n",
              "  <tbody>\n",
              "    <tr>\n",
              "      <th>100% Bran</th>\n",
              "      <td>object</td>\n",
              "      <td>object</td>\n",
              "      <td>int64</td>\n",
              "      <td>int64</td>\n",
              "      <td>int64</td>\n",
              "      <td>int64</td>\n",
              "      <td>float64</td>\n",
              "      <td>float64</td>\n",
              "      <td>int64</td>\n",
              "      <td>int64</td>\n",
              "      <td>int64</td>\n",
              "      <td>int64</td>\n",
              "      <td>float64</td>\n",
              "      <td>float64</td>\n",
              "      <td>float64</td>\n",
              "    </tr>\n",
              "    <tr>\n",
              "      <th>Wheaties Honey Gold</th>\n",
              "      <td>...</td>\n",
              "      <td>...</td>\n",
              "      <td>...</td>\n",
              "      <td>...</td>\n",
              "      <td>...</td>\n",
              "      <td>...</td>\n",
              "      <td>...</td>\n",
              "      <td>...</td>\n",
              "      <td>...</td>\n",
              "      <td>...</td>\n",
              "      <td>...</td>\n",
              "      <td>...</td>\n",
              "      <td>...</td>\n",
              "      <td>...</td>\n",
              "      <td>...</td>\n",
              "    </tr>\n",
              "  </tbody>\n",
              "</table>\n",
              "</div>\n",
              "<div>Dask Name: sort_index, 3 tasks</div>"
            ],
            "text/plain": [
              "Dask DataFrame Structure:\n",
              "                        mfr    type calories protein    fat sodium    fiber    carbo sugars potass vitamins  shelf   weight     cups   rating\n",
              "npartitions=1                                                                                                                                \n",
              "100% Bran            object  object    int64   int64  int64  int64  float64  float64  int64  int64    int64  int64  float64  float64  float64\n",
              "Wheaties Honey Gold     ...     ...      ...     ...    ...    ...      ...      ...    ...    ...      ...    ...      ...      ...      ...\n",
              "Dask Name: sort_index, 3 tasks"
            ]
          },
          "metadata": {
            "tags": []
          },
          "execution_count": 33
        }
      ]
    },
    {
      "cell_type": "code",
      "metadata": {
        "colab": {
          "base_uri": "https://localhost:8080/"
        },
        "id": "4WbhOKqsMfZY",
        "outputId": "16016b5f-43c9-4458-ff43-de62fc45e252"
      },
      "source": [
        "#group by\r\n",
        "%%time\r\n",
        "cerals_pandas.groupby(cerals_pandas.mfr)"
      ],
      "execution_count": 34,
      "outputs": [
        {
          "output_type": "stream",
          "text": [
            "CPU times: user 309 µs, sys: 0 ns, total: 309 µs\n",
            "Wall time: 318 µs\n"
          ],
          "name": "stdout"
        },
        {
          "output_type": "execute_result",
          "data": {
            "text/plain": [
              "<pandas.core.groupby.generic.DataFrameGroupBy object at 0x7fe640beeed0>"
            ]
          },
          "metadata": {
            "tags": []
          },
          "execution_count": 34
        }
      ]
    },
    {
      "cell_type": "code",
      "metadata": {
        "colab": {
          "base_uri": "https://localhost:8080/"
        },
        "id": "gwIHjJQ3Mfb5",
        "outputId": "a298fb9f-325f-4cc9-85e2-48ba01da7f95"
      },
      "source": [
        "%%time\r\n",
        "cerals_dask.groupby(cerals_dask.mfr)"
      ],
      "execution_count": 35,
      "outputs": [
        {
          "output_type": "stream",
          "text": [
            "CPU times: user 1.21 ms, sys: 0 ns, total: 1.21 ms\n",
            "Wall time: 1.55 ms\n"
          ],
          "name": "stdout"
        },
        {
          "output_type": "execute_result",
          "data": {
            "text/plain": [
              "<dask.dataframe.groupby.DataFrameGroupBy at 0x7fe640c1d350>"
            ]
          },
          "metadata": {
            "tags": []
          },
          "execution_count": 35
        }
      ]
    },
    {
      "cell_type": "markdown",
      "metadata": {
        "id": "OjrEBMnnE_E6"
      },
      "source": [
        "## MetaData of Face Exp "
      ]
    },
    {
      "cell_type": "markdown",
      "metadata": {
        "id": "brPDXt9X3wdg"
      },
      "source": [
        "\r\n",
        "\r\n",
        "Each line in the CSV files has the following entries:\r\n",
        "* URL of image1 (string)\r\n",
        "* Top-left column of the face bounding box in image1 normalized by width (float)\r\n",
        "* Bottom-right column of the face bounding box in image1 normalized by width (float)\r\n",
        "* Top-left row of the face bounding box in image1 normalized by height (float)\r\n",
        "* Bottom-right row of the face bounding box in image1 normalized by height (float)\r\n",
        "* URL of image2 (string)\r\n",
        "* Top-left column of the face bounding box in image2 normalized by width (float)\r\n",
        "* Bottom-right column of the face bounding box in image2 normalized by width (float)\r\n",
        "* Top-left row of the face bounding box in image2 normalized by height (float)\r\n",
        "* Bottom-right row of the face bounding box in image2 normalized by height (float)\r\n",
        "* URL of image3 (string)\r\n",
        "* Top-left column of the face bounding box in image3 normalized by width (float)\r\n",
        "* Bottom-right column of the face bounding box in image3 normalized by width (float)\r\n",
        "* Top-left row of the face bounding box in image3 normalized by height (float)\r\n",
        "* Bottom-right row of the face bounding box in image3 normalized by height (float)\r\n",
        "* Triplettype (string) - A string indicating the variation of expressions in the triplet. * Annotator1id (string) - This is just a string of random numbers that can be used to search for all the samples in the dataset annotated by a particular annotator.\r\n",
        "* Annotation1 (integer)\r\n",
        "* Annotator2_id (string)\r\n",
        "* Annotation2 (integer)"
      ]
    },
    {
      "cell_type": "markdown",
      "metadata": {
        "id": "BM1eop0NETeE"
      },
      "source": [
        "## Reading Large  Datasets"
      ]
    },
    {
      "cell_type": "code",
      "metadata": {
        "colab": {
          "base_uri": "https://localhost:8080/"
        },
        "id": "OnUdE4JageqR",
        "outputId": "3f0c5f9b-4e98-40ac-8d55-5bd83f42efb8"
      },
      "source": [
        "%%time\r\n",
        "DF_PANDAS=pd.read_csv(\"/content/faceexp-comparison-data-train-public.csv\",error_bad_lines=False,header=None,engine='python',warn_bad_lines=False)"
      ],
      "execution_count": 36,
      "outputs": [
        {
          "output_type": "stream",
          "text": [
            "CPU times: user 443 ms, sys: 56.1 ms, total: 499 ms\n",
            "Wall time: 502 ms\n"
          ],
          "name": "stdout"
        }
      ]
    },
    {
      "cell_type": "markdown",
      "metadata": {
        "id": "uaGNQbO56V0P"
      },
      "source": [
        "Here to include multiple files we must fetch the csv files into a pandas data frame and merge them to get the final colloborated data frame"
      ]
    },
    {
      "cell_type": "code",
      "metadata": {
        "colab": {
          "base_uri": "https://localhost:8080/"
        },
        "id": "YZ3I7pkGyXem",
        "outputId": "139244e6-2a79-4eeb-fb31-dd8c49440a43"
      },
      "source": [
        "DF_PANDAS.shape"
      ],
      "execution_count": 37,
      "outputs": [
        {
          "output_type": "execute_result",
          "data": {
            "text/plain": [
              "(22063, 28)"
            ]
          },
          "metadata": {
            "tags": []
          },
          "execution_count": 37
        }
      ]
    },
    {
      "cell_type": "code",
      "metadata": {
        "id": "DwZuDMW04JfM"
      },
      "source": [
        "dtypes=dtype={1:'string',\r\n",
        "        16: 'float64',\r\n",
        "       17: 'float64',\r\n",
        "       18: 'float64',\r\n",
        "       19: 'float64',\r\n",
        "       20: 'float64',\r\n",
        "       21: 'float64',\r\n",
        "       22: 'float64',\r\n",
        "       23: 'float64',\r\n",
        "       24: 'float64',\r\n",
        "       25: 'float64',\r\n",
        "       26: 'float64',\r\n",
        "       27: 'float64'}"
      ],
      "execution_count": 38,
      "outputs": []
    },
    {
      "cell_type": "code",
      "metadata": {
        "colab": {
          "base_uri": "https://localhost:8080/"
        },
        "id": "MKNdDN0biCpD",
        "outputId": "8b64b820-5447-45d4-8f59-07222b0168b9"
      },
      "source": [
        "%%time\r\n",
        "DF_DASK=dd.read_csv(\"/content/faceexp-comparison-data*.csv\",error_bad_lines=False,header=None,dtype=dtypes,warn_bad_lines=False,blocksize=None,engine='python')"
      ],
      "execution_count": 39,
      "outputs": [
        {
          "output_type": "stream",
          "text": [
            "CPU times: user 22.8 ms, sys: 1.67 ms, total: 24.5 ms\n",
            "Wall time: 28.8 ms\n"
          ],
          "name": "stdout"
        }
      ]
    },
    {
      "cell_type": "code",
      "metadata": {
        "colab": {
          "base_uri": "https://localhost:8080/",
          "height": 219
        },
        "id": "HkhgPXuxRiZG",
        "outputId": "34b6617a-3e2f-40e8-b05a-172000876587"
      },
      "source": [
        "DF_DASK.set_index(0)"
      ],
      "execution_count": 40,
      "outputs": [
        {
          "output_type": "execute_result",
          "data": {
            "text/html": [
              "<div><strong>Dask DataFrame Structure:</strong></div>\n",
              "<div>\n",
              "<style scoped>\n",
              "    .dataframe tbody tr th:only-of-type {\n",
              "        vertical-align: middle;\n",
              "    }\n",
              "\n",
              "    .dataframe tbody tr th {\n",
              "        vertical-align: top;\n",
              "    }\n",
              "\n",
              "    .dataframe thead th {\n",
              "        text-align: right;\n",
              "    }\n",
              "</style>\n",
              "<table border=\"1\" class=\"dataframe\">\n",
              "  <thead>\n",
              "    <tr style=\"text-align: right;\">\n",
              "      <th></th>\n",
              "      <th>1</th>\n",
              "      <th>2</th>\n",
              "      <th>3</th>\n",
              "      <th>4</th>\n",
              "      <th>5</th>\n",
              "      <th>6</th>\n",
              "      <th>7</th>\n",
              "      <th>8</th>\n",
              "      <th>9</th>\n",
              "      <th>10</th>\n",
              "      <th>11</th>\n",
              "      <th>12</th>\n",
              "      <th>13</th>\n",
              "      <th>14</th>\n",
              "      <th>15</th>\n",
              "      <th>16</th>\n",
              "      <th>17</th>\n",
              "      <th>18</th>\n",
              "      <th>19</th>\n",
              "      <th>20</th>\n",
              "      <th>21</th>\n",
              "      <th>22</th>\n",
              "      <th>23</th>\n",
              "      <th>24</th>\n",
              "      <th>25</th>\n",
              "      <th>26</th>\n",
              "      <th>27</th>\n",
              "    </tr>\n",
              "    <tr>\n",
              "      <th>npartitions=2</th>\n",
              "      <th></th>\n",
              "      <th></th>\n",
              "      <th></th>\n",
              "      <th></th>\n",
              "      <th></th>\n",
              "      <th></th>\n",
              "      <th></th>\n",
              "      <th></th>\n",
              "      <th></th>\n",
              "      <th></th>\n",
              "      <th></th>\n",
              "      <th></th>\n",
              "      <th></th>\n",
              "      <th></th>\n",
              "      <th></th>\n",
              "      <th></th>\n",
              "      <th></th>\n",
              "      <th></th>\n",
              "      <th></th>\n",
              "      <th></th>\n",
              "      <th></th>\n",
              "      <th></th>\n",
              "      <th></th>\n",
              "      <th></th>\n",
              "      <th></th>\n",
              "      <th></th>\n",
              "      <th></th>\n",
              "    </tr>\n",
              "  </thead>\n",
              "  <tbody>\n",
              "    <tr>\n",
              "      <th>http://farm1.staticflickr.com/1/186137601_d1b8896958_b.jpg</th>\n",
              "      <td>string</td>\n",
              "      <td>float64</td>\n",
              "      <td>float64</td>\n",
              "      <td>float64</td>\n",
              "      <td>object</td>\n",
              "      <td>float64</td>\n",
              "      <td>float64</td>\n",
              "      <td>float64</td>\n",
              "      <td>float64</td>\n",
              "      <td>object</td>\n",
              "      <td>float64</td>\n",
              "      <td>float64</td>\n",
              "      <td>float64</td>\n",
              "      <td>float64</td>\n",
              "      <td>object</td>\n",
              "      <td>float64</td>\n",
              "      <td>float64</td>\n",
              "      <td>float64</td>\n",
              "      <td>float64</td>\n",
              "      <td>float64</td>\n",
              "      <td>float64</td>\n",
              "      <td>float64</td>\n",
              "      <td>float64</td>\n",
              "      <td>float64</td>\n",
              "      <td>float64</td>\n",
              "      <td>float64</td>\n",
              "      <td>float64</td>\n",
              "    </tr>\n",
              "    <tr>\n",
              "      <th>http://farm4.staticflickr.com/3760/13641363095_c0294ab0b8_b.jpg</th>\n",
              "      <td>...</td>\n",
              "      <td>...</td>\n",
              "      <td>...</td>\n",
              "      <td>...</td>\n",
              "      <td>...</td>\n",
              "      <td>...</td>\n",
              "      <td>...</td>\n",
              "      <td>...</td>\n",
              "      <td>...</td>\n",
              "      <td>...</td>\n",
              "      <td>...</td>\n",
              "      <td>...</td>\n",
              "      <td>...</td>\n",
              "      <td>...</td>\n",
              "      <td>...</td>\n",
              "      <td>...</td>\n",
              "      <td>...</td>\n",
              "      <td>...</td>\n",
              "      <td>...</td>\n",
              "      <td>...</td>\n",
              "      <td>...</td>\n",
              "      <td>...</td>\n",
              "      <td>...</td>\n",
              "      <td>...</td>\n",
              "      <td>...</td>\n",
              "      <td>...</td>\n",
              "      <td>...</td>\n",
              "    </tr>\n",
              "    <tr>\n",
              "      <th>https://farm4.staticflickr.com/3812/9010637530_028f42854a_b.jpg</th>\n",
              "      <td>...</td>\n",
              "      <td>...</td>\n",
              "      <td>...</td>\n",
              "      <td>...</td>\n",
              "      <td>...</td>\n",
              "      <td>...</td>\n",
              "      <td>...</td>\n",
              "      <td>...</td>\n",
              "      <td>...</td>\n",
              "      <td>...</td>\n",
              "      <td>...</td>\n",
              "      <td>...</td>\n",
              "      <td>...</td>\n",
              "      <td>...</td>\n",
              "      <td>...</td>\n",
              "      <td>...</td>\n",
              "      <td>...</td>\n",
              "      <td>...</td>\n",
              "      <td>...</td>\n",
              "      <td>...</td>\n",
              "      <td>...</td>\n",
              "      <td>...</td>\n",
              "      <td>...</td>\n",
              "      <td>...</td>\n",
              "      <td>...</td>\n",
              "      <td>...</td>\n",
              "      <td>...</td>\n",
              "    </tr>\n",
              "  </tbody>\n",
              "</table>\n",
              "</div>\n",
              "<div>Dask Name: sort_index, 18 tasks</div>"
            ],
            "text/plain": [
              "Dask DataFrame Structure:\n",
              "                                                                     1        2        3        4       5        6        7        8        9       10       11       12       13       14      15       16       17       18       19       20       21       22       23       24       25       26       27\n",
              "npartitions=2                                                                                                                                                                                                                                                                                                 \n",
              "http://farm1.staticflickr.com/1/186137601_d1b8896958_b.jpg       string  float64  float64  float64  object  float64  float64  float64  float64  object  float64  float64  float64  float64  object  float64  float64  float64  float64  float64  float64  float64  float64  float64  float64  float64  float64\n",
              "http://farm4.staticflickr.com/3760/13641363095_c0294ab0b8_b.jpg     ...      ...      ...      ...     ...      ...      ...      ...      ...     ...      ...      ...      ...      ...     ...      ...      ...      ...      ...      ...      ...      ...      ...      ...      ...      ...      ...\n",
              "https://farm4.staticflickr.com/3812/9010637530_028f42854a_b.jpg     ...      ...      ...      ...     ...      ...      ...      ...      ...     ...      ...      ...      ...      ...     ...      ...      ...      ...      ...      ...      ...      ...      ...      ...      ...      ...      ...\n",
              "Dask Name: sort_index, 18 tasks"
            ]
          },
          "metadata": {
            "tags": []
          },
          "execution_count": 40
        }
      ]
    },
    {
      "cell_type": "code",
      "metadata": {
        "colab": {
          "base_uri": "https://localhost:8080/"
        },
        "id": "zP_r6b4aM5bE",
        "outputId": "93863737-fb8c-4d30-9a31-2b410b5db214"
      },
      "source": [
        "DF_DASK.shape"
      ],
      "execution_count": 41,
      "outputs": [
        {
          "output_type": "execute_result",
          "data": {
            "text/plain": [
              "(Delayed('int-141401e7-20ab-4ff0-91bc-a458e96a9358'), 28)"
            ]
          },
          "metadata": {
            "tags": []
          },
          "execution_count": 41
        }
      ]
    },
    {
      "cell_type": "code",
      "metadata": {
        "colab": {
          "base_uri": "https://localhost:8080/"
        },
        "id": "jyfUlCf_O-Q4",
        "outputId": "96ccda6b-4f35-4839-ae18-1215e8c30348"
      },
      "source": [
        "DF_DASK.info()"
      ],
      "execution_count": 42,
      "outputs": [
        {
          "output_type": "stream",
          "text": [
            "<class 'dask.dataframe.core.DataFrame'>\n",
            "Columns: 28 entries, 0 to 27\n",
            "dtypes: string(1), object(4), float64(23)"
          ],
          "name": "stdout"
        }
      ]
    },
    {
      "cell_type": "code",
      "metadata": {
        "colab": {
          "base_uri": "https://localhost:8080/"
        },
        "id": "BSN3OzxKNN1u",
        "outputId": "8f0023ad-bacd-40c3-b657-48b3e75c0177"
      },
      "source": [
        "DF_DASK.shape[0].compute() #It Reads all the files in the data frame and gives the rows count"
      ],
      "execution_count": 43,
      "outputs": [
        {
          "output_type": "execute_result",
          "data": {
            "text/plain": [
              "44035"
            ]
          },
          "metadata": {
            "tags": []
          },
          "execution_count": 43
        }
      ]
    },
    {
      "cell_type": "code",
      "metadata": {
        "colab": {
          "base_uri": "https://localhost:8080/"
        },
        "id": "RdymmI4crWC0",
        "outputId": "3d54ae15-f0df-4327-f096-5b0d740fec1d"
      },
      "source": [
        "DF_DASK.npartitions #To know how many pandas data frames are present in dask"
      ],
      "execution_count": 44,
      "outputs": [
        {
          "output_type": "execute_result",
          "data": {
            "text/plain": [
              "2"
            ]
          },
          "metadata": {
            "tags": []
          },
          "execution_count": 44
        }
      ]
    },
    {
      "cell_type": "code",
      "metadata": {
        "colab": {
          "base_uri": "https://localhost:8080/"
        },
        "id": "QljB3F6HXnXC",
        "outputId": "933ca556-5ef5-45b6-9409-bf5e44fd1e0f"
      },
      "source": [
        "DF_DASK.divisions"
      ],
      "execution_count": 46,
      "outputs": [
        {
          "output_type": "stream",
          "text": [
            "('http://0.blog.xuite.net/0/2/1/b/13368594/blog_747921/txt/15838650/5.jpg', 'http://farm4.staticflickr.com/3745/10761852226_1f3b99cca3_b.jpg', 'https://zeeuwswielrennen.files.wordpress.com/2010/02/bauke-mollema1.jpg')\n"
          ],
          "name": "stdout"
        }
      ]
    },
    {
      "cell_type": "markdown",
      "metadata": {
        "id": "tphD_7xDOUB6"
      },
      "source": [
        "Accessing subsets of data frame using loc and iloc"
      ]
    },
    {
      "cell_type": "code",
      "metadata": {
        "colab": {
          "base_uri": "https://localhost:8080/",
          "height": 422
        },
        "id": "zRpEG_JPX0ox",
        "outputId": "3932a533-46c2-455b-9ce8-8b1a4eab62d6"
      },
      "source": [
        "DF_DASK.compute()"
      ],
      "execution_count": 47,
      "outputs": [
        {
          "output_type": "execute_result",
          "data": {
            "text/html": [
              "<div>\n",
              "<style scoped>\n",
              "    .dataframe tbody tr th:only-of-type {\n",
              "        vertical-align: middle;\n",
              "    }\n",
              "\n",
              "    .dataframe tbody tr th {\n",
              "        vertical-align: top;\n",
              "    }\n",
              "\n",
              "    .dataframe thead th {\n",
              "        text-align: right;\n",
              "    }\n",
              "</style>\n",
              "<table border=\"1\" class=\"dataframe\">\n",
              "  <thead>\n",
              "    <tr style=\"text-align: right;\">\n",
              "      <th></th>\n",
              "      <th>0</th>\n",
              "      <th>1</th>\n",
              "      <th>2</th>\n",
              "      <th>3</th>\n",
              "      <th>4</th>\n",
              "      <th>5</th>\n",
              "      <th>6</th>\n",
              "      <th>7</th>\n",
              "      <th>8</th>\n",
              "      <th>9</th>\n",
              "      <th>10</th>\n",
              "      <th>11</th>\n",
              "      <th>12</th>\n",
              "      <th>13</th>\n",
              "      <th>14</th>\n",
              "      <th>15</th>\n",
              "      <th>16</th>\n",
              "      <th>17</th>\n",
              "      <th>18</th>\n",
              "      <th>19</th>\n",
              "      <th>20</th>\n",
              "      <th>21</th>\n",
              "      <th>22</th>\n",
              "      <th>23</th>\n",
              "      <th>24</th>\n",
              "      <th>25</th>\n",
              "      <th>26</th>\n",
              "      <th>27</th>\n",
              "    </tr>\n",
              "  </thead>\n",
              "  <tbody>\n",
              "    <tr>\n",
              "      <th>0</th>\n",
              "      <td>http://farm4.staticflickr.com/3679/12137399835...</td>\n",
              "      <td>0.453125</td>\n",
              "      <td>0.655273</td>\n",
              "      <td>0.079019</td>\n",
              "      <td>0.407357</td>\n",
              "      <td>http://farm4.staticflickr.com/3372/5791826985_...</td>\n",
              "      <td>0.523734</td>\n",
              "      <td>0.675633</td>\n",
              "      <td>0.155660</td>\n",
              "      <td>0.419811</td>\n",
              "      <td>http://farm3.staticflickr.com/2712/4239337027_...</td>\n",
              "      <td>0.291992</td>\n",
              "      <td>0.391602</td>\n",
              "      <td>0.209635</td>\n",
              "      <td>0.364583</td>\n",
              "      <td>ONE_CLASS_TRIPLET</td>\n",
              "      <td>291301.0</td>\n",
              "      <td>3.0</td>\n",
              "      <td>300701.0</td>\n",
              "      <td>3.0</td>\n",
              "      <td>321902.0</td>\n",
              "      <td>3.0</td>\n",
              "      <td>322102.0</td>\n",
              "      <td>3.0</td>\n",
              "      <td>4.294979e+09</td>\n",
              "      <td>3.0</td>\n",
              "      <td>4.294990e+09</td>\n",
              "      <td>3.0</td>\n",
              "    </tr>\n",
              "    <tr>\n",
              "      <th>1</th>\n",
              "      <td>http://farm4.staticflickr.com/3679/12137399835...</td>\n",
              "      <td>0.453125</td>\n",
              "      <td>0.655273</td>\n",
              "      <td>0.079019</td>\n",
              "      <td>0.407357</td>\n",
              "      <td>http://farm6.staticflickr.com/5532/11255277973...</td>\n",
              "      <td>0.302734</td>\n",
              "      <td>0.568359</td>\n",
              "      <td>0.060150</td>\n",
              "      <td>0.535338</td>\n",
              "      <td>http://farm4.staticflickr.com/3850/14926048846...</td>\n",
              "      <td>0.576172</td>\n",
              "      <td>0.644531</td>\n",
              "      <td>0.102526</td>\n",
              "      <td>0.222883</td>\n",
              "      <td>ONE_CLASS_TRIPLET</td>\n",
              "      <td>291701.0</td>\n",
              "      <td>3.0</td>\n",
              "      <td>300701.0</td>\n",
              "      <td>1.0</td>\n",
              "      <td>300901.0</td>\n",
              "      <td>3.0</td>\n",
              "      <td>321501.0</td>\n",
              "      <td>3.0</td>\n",
              "      <td>3.219020e+05</td>\n",
              "      <td>2.0</td>\n",
              "      <td>3.221020e+05</td>\n",
              "      <td>3.0</td>\n",
              "    </tr>\n",
              "    <tr>\n",
              "      <th>2</th>\n",
              "      <td>http://farm4.staticflickr.com/3679/12137399835...</td>\n",
              "      <td>0.453125</td>\n",
              "      <td>0.655273</td>\n",
              "      <td>0.079019</td>\n",
              "      <td>0.407357</td>\n",
              "      <td>http://farm1.staticflickr.com/1/186137601_d1b8...</td>\n",
              "      <td>0.311558</td>\n",
              "      <td>0.444724</td>\n",
              "      <td>0.178711</td>\n",
              "      <td>0.298828</td>\n",
              "      <td>http://farm6.staticflickr.com/5519/12358234664...</td>\n",
              "      <td>0.036133</td>\n",
              "      <td>0.152344</td>\n",
              "      <td>0.298091</td>\n",
              "      <td>0.502203</td>\n",
              "      <td>TWO_CLASS_TRIPLET</td>\n",
              "      <td>291301.0</td>\n",
              "      <td>3.0</td>\n",
              "      <td>291701.0</td>\n",
              "      <td>3.0</td>\n",
              "      <td>300701.0</td>\n",
              "      <td>3.0</td>\n",
              "      <td>321501.0</td>\n",
              "      <td>3.0</td>\n",
              "      <td>3.216010e+05</td>\n",
              "      <td>3.0</td>\n",
              "      <td>3.219020e+05</td>\n",
              "      <td>3.0</td>\n",
              "    </tr>\n",
              "    <tr>\n",
              "      <th>3</th>\n",
              "      <td>http://farm4.staticflickr.com/3679/12137399835...</td>\n",
              "      <td>0.453125</td>\n",
              "      <td>0.655273</td>\n",
              "      <td>0.079019</td>\n",
              "      <td>0.407357</td>\n",
              "      <td>http://farm8.staticflickr.com/7345/11272369166...</td>\n",
              "      <td>0.185547</td>\n",
              "      <td>0.260742</td>\n",
              "      <td>0.146245</td>\n",
              "      <td>0.263505</td>\n",
              "      <td>http://farm8.staticflickr.com/7325/8724273816_...</td>\n",
              "      <td>0.337891</td>\n",
              "      <td>0.698242</td>\n",
              "      <td>0.000000</td>\n",
              "      <td>0.657986</td>\n",
              "      <td>TWO_CLASS_TRIPLET</td>\n",
              "      <td>291301.0</td>\n",
              "      <td>3.0</td>\n",
              "      <td>291701.0</td>\n",
              "      <td>2.0</td>\n",
              "      <td>321902.0</td>\n",
              "      <td>3.0</td>\n",
              "      <td>322102.0</td>\n",
              "      <td>2.0</td>\n",
              "      <td>4.294990e+09</td>\n",
              "      <td>2.0</td>\n",
              "      <td>4.831600e+04</td>\n",
              "      <td>3.0</td>\n",
              "    </tr>\n",
              "    <tr>\n",
              "      <th>4</th>\n",
              "      <td>http://farm4.staticflickr.com/3679/12137399835...</td>\n",
              "      <td>0.453125</td>\n",
              "      <td>0.655273</td>\n",
              "      <td>0.079019</td>\n",
              "      <td>0.407357</td>\n",
              "      <td>http://farm4.staticflickr.com/3760/13641363095...</td>\n",
              "      <td>0.408854</td>\n",
              "      <td>0.518229</td>\n",
              "      <td>0.277344</td>\n",
              "      <td>0.372070</td>\n",
              "      <td>http://farm4.staticflickr.com/3022/2819006049_...</td>\n",
              "      <td>0.140625</td>\n",
              "      <td>0.265625</td>\n",
              "      <td>0.196289</td>\n",
              "      <td>0.305664</td>\n",
              "      <td>THREE_CLASS_TRIPLET</td>\n",
              "      <td>291301.0</td>\n",
              "      <td>2.0</td>\n",
              "      <td>291701.0</td>\n",
              "      <td>2.0</td>\n",
              "      <td>321601.0</td>\n",
              "      <td>1.0</td>\n",
              "      <td>322102.0</td>\n",
              "      <td>2.0</td>\n",
              "      <td>4.294990e+09</td>\n",
              "      <td>2.0</td>\n",
              "      <td>4.831600e+04</td>\n",
              "      <td>2.0</td>\n",
              "    </tr>\n",
              "    <tr>\n",
              "      <th>...</th>\n",
              "      <td>...</td>\n",
              "      <td>...</td>\n",
              "      <td>...</td>\n",
              "      <td>...</td>\n",
              "      <td>...</td>\n",
              "      <td>...</td>\n",
              "      <td>...</td>\n",
              "      <td>...</td>\n",
              "      <td>...</td>\n",
              "      <td>...</td>\n",
              "      <td>...</td>\n",
              "      <td>...</td>\n",
              "      <td>...</td>\n",
              "      <td>...</td>\n",
              "      <td>...</td>\n",
              "      <td>...</td>\n",
              "      <td>...</td>\n",
              "      <td>...</td>\n",
              "      <td>...</td>\n",
              "      <td>...</td>\n",
              "      <td>...</td>\n",
              "      <td>...</td>\n",
              "      <td>...</td>\n",
              "      <td>...</td>\n",
              "      <td>...</td>\n",
              "      <td>...</td>\n",
              "      <td>...</td>\n",
              "      <td>...</td>\n",
              "    </tr>\n",
              "    <tr>\n",
              "      <th>22058</th>\n",
              "      <td>http://farm4.staticflickr.com/3719/11739565564...</td>\n",
              "      <td>0.511719</td>\n",
              "      <td>0.807617</td>\n",
              "      <td>0.156174</td>\n",
              "      <td>0.582324</td>\n",
              "      <td>http://farm2.staticflickr.com/1198/717226902_a...</td>\n",
              "      <td>0.536685</td>\n",
              "      <td>0.703804</td>\n",
              "      <td>0.519531</td>\n",
              "      <td>0.659180</td>\n",
              "      <td>http://farm6.staticflickr.com/5534/12245661505...</td>\n",
              "      <td>0.224012</td>\n",
              "      <td>0.320644</td>\n",
              "      <td>0.166016</td>\n",
              "      <td>0.240234</td>\n",
              "      <td>THREE_CLASS_TRIPLET</td>\n",
              "      <td>221901.0</td>\n",
              "      <td>3.0</td>\n",
              "      <td>269701.0</td>\n",
              "      <td>1.0</td>\n",
              "      <td>291301.0</td>\n",
              "      <td>3.0</td>\n",
              "      <td>291701.0</td>\n",
              "      <td>1.0</td>\n",
              "      <td>3.007010e+05</td>\n",
              "      <td>1.0</td>\n",
              "      <td>4.120700e+04</td>\n",
              "      <td>1.0</td>\n",
              "    </tr>\n",
              "    <tr>\n",
              "      <th>22059</th>\n",
              "      <td>http://farm4.staticflickr.com/3719/11739565564...</td>\n",
              "      <td>0.511719</td>\n",
              "      <td>0.807617</td>\n",
              "      <td>0.156174</td>\n",
              "      <td>0.582324</td>\n",
              "      <td>http://farm4.staticflickr.com/3467/3880591913_...</td>\n",
              "      <td>0.000000</td>\n",
              "      <td>0.998536</td>\n",
              "      <td>0.000000</td>\n",
              "      <td>0.999023</td>\n",
              "      <td>http://farm5.staticflickr.com/4154/5051256436_...</td>\n",
              "      <td>0.255014</td>\n",
              "      <td>0.740688</td>\n",
              "      <td>0.081055</td>\n",
              "      <td>0.466797</td>\n",
              "      <td>TWO_CLASS_TRIPLET</td>\n",
              "      <td>300901.0</td>\n",
              "      <td>3.0</td>\n",
              "      <td>321402.0</td>\n",
              "      <td>3.0</td>\n",
              "      <td>321501.0</td>\n",
              "      <td>3.0</td>\n",
              "      <td>322102.0</td>\n",
              "      <td>3.0</td>\n",
              "      <td>4.120700e+04</td>\n",
              "      <td>3.0</td>\n",
              "      <td>4.294990e+09</td>\n",
              "      <td>3.0</td>\n",
              "    </tr>\n",
              "    <tr>\n",
              "      <th>22060</th>\n",
              "      <td>http://farm4.staticflickr.com/3719/11739565564...</td>\n",
              "      <td>0.511719</td>\n",
              "      <td>0.807617</td>\n",
              "      <td>0.156174</td>\n",
              "      <td>0.582324</td>\n",
              "      <td>http://farm3.staticflickr.com/2792/4438917476_...</td>\n",
              "      <td>0.417277</td>\n",
              "      <td>0.623719</td>\n",
              "      <td>0.175781</td>\n",
              "      <td>0.335938</td>\n",
              "      <td>http://farm3.staticflickr.com/2345/12972604593...</td>\n",
              "      <td>0.362500</td>\n",
              "      <td>0.445833</td>\n",
              "      <td>0.240625</td>\n",
              "      <td>0.387500</td>\n",
              "      <td>THREE_CLASS_TRIPLET</td>\n",
              "      <td>189501.0</td>\n",
              "      <td>2.0</td>\n",
              "      <td>249701.0</td>\n",
              "      <td>1.0</td>\n",
              "      <td>300901.0</td>\n",
              "      <td>2.0</td>\n",
              "      <td>321601.0</td>\n",
              "      <td>2.0</td>\n",
              "      <td>4.294979e+09</td>\n",
              "      <td>3.0</td>\n",
              "      <td>4.831600e+04</td>\n",
              "      <td>2.0</td>\n",
              "    </tr>\n",
              "    <tr>\n",
              "      <th>22061</th>\n",
              "      <td>http://farm4.staticflickr.com/3719/11739565564...</td>\n",
              "      <td>0.511719</td>\n",
              "      <td>0.807617</td>\n",
              "      <td>0.156174</td>\n",
              "      <td>0.582324</td>\n",
              "      <td>http://farm4.staticflickr.com/3761/9963243285_...</td>\n",
              "      <td>0.576696</td>\n",
              "      <td>0.787611</td>\n",
              "      <td>0.041992</td>\n",
              "      <td>0.205078</td>\n",
              "      <td>http://farm5.staticflickr.com/4084/5090708070_...</td>\n",
              "      <td>0.091667</td>\n",
              "      <td>0.323611</td>\n",
              "      <td>0.000000</td>\n",
              "      <td>0.289225</td>\n",
              "      <td>TWO_CLASS_TRIPLET</td>\n",
              "      <td>221901.0</td>\n",
              "      <td>3.0</td>\n",
              "      <td>269701.0</td>\n",
              "      <td>3.0</td>\n",
              "      <td>291301.0</td>\n",
              "      <td>3.0</td>\n",
              "      <td>291701.0</td>\n",
              "      <td>3.0</td>\n",
              "      <td>3.007010e+05</td>\n",
              "      <td>3.0</td>\n",
              "      <td>3.216010e+05</td>\n",
              "      <td>3.0</td>\n",
              "    </tr>\n",
              "    <tr>\n",
              "      <th>22062</th>\n",
              "      <td>http://farm4.staticflickr.com/3719/11739565564...</td>\n",
              "      <td>0.511719</td>\n",
              "      <td>0.807617</td>\n",
              "      <td>0.156174</td>\n",
              "      <td>0.582324</td>\n",
              "      <td>http://farm6.staticflickr.com/5318/5850774729_...</td>\n",
              "      <td>0.310547</td>\n",
              "      <td>0.381836</td>\n",
              "      <td>0.215278</td>\n",
              "      <td>0.364583</td>\n",
              "      <td>http://farm6.staticflickr.com/5284/5248850110_...</td>\n",
              "      <td>0.539062</td>\n",
              "      <td>0.637695</td>\n",
              "      <td>0.073206</td>\n",
              "      <td>0.245974</td>\n",
              "      <td>TWO_CLASS_TRIPLET</td>\n",
              "      <td>147101.0</td>\n",
              "      <td>3.0</td>\n",
              "      <td>291701.0</td>\n",
              "      <td>3.0</td>\n",
              "      <td>321402.0</td>\n",
              "      <td>3.0</td>\n",
              "      <td>321601.0</td>\n",
              "      <td>3.0</td>\n",
              "      <td>3.219020e+05</td>\n",
              "      <td>3.0</td>\n",
              "      <td>4.831600e+04</td>\n",
              "      <td>3.0</td>\n",
              "    </tr>\n",
              "  </tbody>\n",
              "</table>\n",
              "<p>44035 rows × 28 columns</p>\n",
              "</div>"
            ],
            "text/plain": [
              "                                                      0   ...   27\n",
              "0      http://farm4.staticflickr.com/3679/12137399835...  ...  3.0\n",
              "1      http://farm4.staticflickr.com/3679/12137399835...  ...  3.0\n",
              "2      http://farm4.staticflickr.com/3679/12137399835...  ...  3.0\n",
              "3      http://farm4.staticflickr.com/3679/12137399835...  ...  3.0\n",
              "4      http://farm4.staticflickr.com/3679/12137399835...  ...  2.0\n",
              "...                                                  ...  ...  ...\n",
              "22058  http://farm4.staticflickr.com/3719/11739565564...  ...  1.0\n",
              "22059  http://farm4.staticflickr.com/3719/11739565564...  ...  3.0\n",
              "22060  http://farm4.staticflickr.com/3719/11739565564...  ...  2.0\n",
              "22061  http://farm4.staticflickr.com/3719/11739565564...  ...  3.0\n",
              "22062  http://farm4.staticflickr.com/3719/11739565564...  ...  3.0\n",
              "\n",
              "[44035 rows x 28 columns]"
            ]
          },
          "metadata": {
            "tags": []
          },
          "execution_count": 47
        }
      ]
    },
    {
      "cell_type": "code",
      "metadata": {
        "colab": {
          "base_uri": "https://localhost:8080/",
          "height": 219
        },
        "id": "QggXZc7aRwTN",
        "outputId": "649eefd2-7143-47d7-943d-aace33572e7f"
      },
      "source": [
        "DF_DASK.loc['http://0.blog.xuite.net/0/2/1/b/13368594/blog_747921/txt/15838650/5.jpg']\r\n",
        "#It provides the rows which has same index..which has been divided."
      ],
      "execution_count": 60,
      "outputs": [
        {
          "output_type": "execute_result",
          "data": {
            "text/html": [
              "<div><strong>Dask DataFrame Structure:</strong></div>\n",
              "<div>\n",
              "<style scoped>\n",
              "    .dataframe tbody tr th:only-of-type {\n",
              "        vertical-align: middle;\n",
              "    }\n",
              "\n",
              "    .dataframe tbody tr th {\n",
              "        vertical-align: top;\n",
              "    }\n",
              "\n",
              "    .dataframe thead th {\n",
              "        text-align: right;\n",
              "    }\n",
              "</style>\n",
              "<table border=\"1\" class=\"dataframe\">\n",
              "  <thead>\n",
              "    <tr style=\"text-align: right;\">\n",
              "      <th></th>\n",
              "      <th>0</th>\n",
              "      <th>1</th>\n",
              "      <th>2</th>\n",
              "      <th>3</th>\n",
              "      <th>4</th>\n",
              "      <th>5</th>\n",
              "      <th>6</th>\n",
              "      <th>7</th>\n",
              "      <th>8</th>\n",
              "      <th>9</th>\n",
              "      <th>10</th>\n",
              "      <th>11</th>\n",
              "      <th>12</th>\n",
              "      <th>13</th>\n",
              "      <th>14</th>\n",
              "      <th>15</th>\n",
              "      <th>16</th>\n",
              "      <th>17</th>\n",
              "      <th>18</th>\n",
              "      <th>19</th>\n",
              "      <th>20</th>\n",
              "      <th>21</th>\n",
              "      <th>22</th>\n",
              "      <th>23</th>\n",
              "      <th>24</th>\n",
              "      <th>25</th>\n",
              "      <th>26</th>\n",
              "      <th>27</th>\n",
              "    </tr>\n",
              "    <tr>\n",
              "      <th>npartitions=2</th>\n",
              "      <th></th>\n",
              "      <th></th>\n",
              "      <th></th>\n",
              "      <th></th>\n",
              "      <th></th>\n",
              "      <th></th>\n",
              "      <th></th>\n",
              "      <th></th>\n",
              "      <th></th>\n",
              "      <th></th>\n",
              "      <th></th>\n",
              "      <th></th>\n",
              "      <th></th>\n",
              "      <th></th>\n",
              "      <th></th>\n",
              "      <th></th>\n",
              "      <th></th>\n",
              "      <th></th>\n",
              "      <th></th>\n",
              "      <th></th>\n",
              "      <th></th>\n",
              "      <th></th>\n",
              "      <th></th>\n",
              "      <th></th>\n",
              "      <th></th>\n",
              "      <th></th>\n",
              "      <th></th>\n",
              "      <th></th>\n",
              "    </tr>\n",
              "  </thead>\n",
              "  <tbody>\n",
              "    <tr>\n",
              "      <th></th>\n",
              "      <td>object</td>\n",
              "      <td>string</td>\n",
              "      <td>float64</td>\n",
              "      <td>float64</td>\n",
              "      <td>float64</td>\n",
              "      <td>object</td>\n",
              "      <td>float64</td>\n",
              "      <td>float64</td>\n",
              "      <td>float64</td>\n",
              "      <td>float64</td>\n",
              "      <td>object</td>\n",
              "      <td>float64</td>\n",
              "      <td>float64</td>\n",
              "      <td>float64</td>\n",
              "      <td>float64</td>\n",
              "      <td>object</td>\n",
              "      <td>float64</td>\n",
              "      <td>float64</td>\n",
              "      <td>float64</td>\n",
              "      <td>float64</td>\n",
              "      <td>float64</td>\n",
              "      <td>float64</td>\n",
              "      <td>float64</td>\n",
              "      <td>float64</td>\n",
              "      <td>float64</td>\n",
              "      <td>float64</td>\n",
              "      <td>float64</td>\n",
              "      <td>float64</td>\n",
              "    </tr>\n",
              "    <tr>\n",
              "      <th></th>\n",
              "      <td>...</td>\n",
              "      <td>...</td>\n",
              "      <td>...</td>\n",
              "      <td>...</td>\n",
              "      <td>...</td>\n",
              "      <td>...</td>\n",
              "      <td>...</td>\n",
              "      <td>...</td>\n",
              "      <td>...</td>\n",
              "      <td>...</td>\n",
              "      <td>...</td>\n",
              "      <td>...</td>\n",
              "      <td>...</td>\n",
              "      <td>...</td>\n",
              "      <td>...</td>\n",
              "      <td>...</td>\n",
              "      <td>...</td>\n",
              "      <td>...</td>\n",
              "      <td>...</td>\n",
              "      <td>...</td>\n",
              "      <td>...</td>\n",
              "      <td>...</td>\n",
              "      <td>...</td>\n",
              "      <td>...</td>\n",
              "      <td>...</td>\n",
              "      <td>...</td>\n",
              "      <td>...</td>\n",
              "      <td>...</td>\n",
              "    </tr>\n",
              "    <tr>\n",
              "      <th></th>\n",
              "      <td>...</td>\n",
              "      <td>...</td>\n",
              "      <td>...</td>\n",
              "      <td>...</td>\n",
              "      <td>...</td>\n",
              "      <td>...</td>\n",
              "      <td>...</td>\n",
              "      <td>...</td>\n",
              "      <td>...</td>\n",
              "      <td>...</td>\n",
              "      <td>...</td>\n",
              "      <td>...</td>\n",
              "      <td>...</td>\n",
              "      <td>...</td>\n",
              "      <td>...</td>\n",
              "      <td>...</td>\n",
              "      <td>...</td>\n",
              "      <td>...</td>\n",
              "      <td>...</td>\n",
              "      <td>...</td>\n",
              "      <td>...</td>\n",
              "      <td>...</td>\n",
              "      <td>...</td>\n",
              "      <td>...</td>\n",
              "      <td>...</td>\n",
              "      <td>...</td>\n",
              "      <td>...</td>\n",
              "      <td>...</td>\n",
              "    </tr>\n",
              "  </tbody>\n",
              "</table>\n",
              "</div>\n",
              "<div>Dask Name: try_loc, 4 tasks</div>"
            ],
            "text/plain": [
              "Dask DataFrame Structure:\n",
              "                   0       1        2        3        4       5        6        7        8        9       10       11       12       13       14      15       16       17       18       19       20       21       22       23       24       25       26       27\n",
              "npartitions=2                                                                                                                                                                                                                                                       \n",
              "               object  string  float64  float64  float64  object  float64  float64  float64  float64  object  float64  float64  float64  float64  object  float64  float64  float64  float64  float64  float64  float64  float64  float64  float64  float64  float64\n",
              "                  ...     ...      ...      ...      ...     ...      ...      ...      ...      ...     ...      ...      ...      ...      ...     ...      ...      ...      ...      ...      ...      ...      ...      ...      ...      ...      ...      ...\n",
              "                  ...     ...      ...      ...      ...     ...      ...      ...      ...      ...     ...      ...      ...      ...      ...     ...      ...      ...      ...      ...      ...      ...      ...      ...      ...      ...      ...      ...\n",
              "Dask Name: try_loc, 4 tasks"
            ]
          },
          "metadata": {
            "tags": []
          },
          "execution_count": 60
        }
      ]
    },
    {
      "cell_type": "code",
      "metadata": {
        "colab": {
          "base_uri": "https://localhost:8080/",
          "height": 422
        },
        "id": "_MpRL2G-peK4",
        "outputId": "eab6bb22-5223-4207-9fd4-24b6384d8cf2"
      },
      "source": [
        "DF_DASK.compute()"
      ],
      "execution_count": 53,
      "outputs": [
        {
          "output_type": "execute_result",
          "data": {
            "text/html": [
              "<div>\n",
              "<style scoped>\n",
              "    .dataframe tbody tr th:only-of-type {\n",
              "        vertical-align: middle;\n",
              "    }\n",
              "\n",
              "    .dataframe tbody tr th {\n",
              "        vertical-align: top;\n",
              "    }\n",
              "\n",
              "    .dataframe thead th {\n",
              "        text-align: right;\n",
              "    }\n",
              "</style>\n",
              "<table border=\"1\" class=\"dataframe\">\n",
              "  <thead>\n",
              "    <tr style=\"text-align: right;\">\n",
              "      <th></th>\n",
              "      <th>0</th>\n",
              "      <th>1</th>\n",
              "      <th>2</th>\n",
              "      <th>3</th>\n",
              "      <th>4</th>\n",
              "      <th>5</th>\n",
              "      <th>6</th>\n",
              "      <th>7</th>\n",
              "      <th>8</th>\n",
              "      <th>9</th>\n",
              "      <th>10</th>\n",
              "      <th>11</th>\n",
              "      <th>12</th>\n",
              "      <th>13</th>\n",
              "      <th>14</th>\n",
              "      <th>15</th>\n",
              "      <th>16</th>\n",
              "      <th>17</th>\n",
              "      <th>18</th>\n",
              "      <th>19</th>\n",
              "      <th>20</th>\n",
              "      <th>21</th>\n",
              "      <th>22</th>\n",
              "      <th>23</th>\n",
              "      <th>24</th>\n",
              "      <th>25</th>\n",
              "      <th>26</th>\n",
              "      <th>27</th>\n",
              "    </tr>\n",
              "  </thead>\n",
              "  <tbody>\n",
              "    <tr>\n",
              "      <th>0</th>\n",
              "      <td>http://farm4.staticflickr.com/3679/12137399835...</td>\n",
              "      <td>0.453125</td>\n",
              "      <td>0.655273</td>\n",
              "      <td>0.079019</td>\n",
              "      <td>0.407357</td>\n",
              "      <td>http://farm4.staticflickr.com/3372/5791826985_...</td>\n",
              "      <td>0.523734</td>\n",
              "      <td>0.675633</td>\n",
              "      <td>0.155660</td>\n",
              "      <td>0.419811</td>\n",
              "      <td>http://farm3.staticflickr.com/2712/4239337027_...</td>\n",
              "      <td>0.291992</td>\n",
              "      <td>0.391602</td>\n",
              "      <td>0.209635</td>\n",
              "      <td>0.364583</td>\n",
              "      <td>ONE_CLASS_TRIPLET</td>\n",
              "      <td>291301.0</td>\n",
              "      <td>3.0</td>\n",
              "      <td>300701.0</td>\n",
              "      <td>3.0</td>\n",
              "      <td>321902.0</td>\n",
              "      <td>3.0</td>\n",
              "      <td>322102.0</td>\n",
              "      <td>3.0</td>\n",
              "      <td>4.294979e+09</td>\n",
              "      <td>3.0</td>\n",
              "      <td>4.294990e+09</td>\n",
              "      <td>3.0</td>\n",
              "    </tr>\n",
              "    <tr>\n",
              "      <th>1</th>\n",
              "      <td>http://farm4.staticflickr.com/3679/12137399835...</td>\n",
              "      <td>0.453125</td>\n",
              "      <td>0.655273</td>\n",
              "      <td>0.079019</td>\n",
              "      <td>0.407357</td>\n",
              "      <td>http://farm6.staticflickr.com/5532/11255277973...</td>\n",
              "      <td>0.302734</td>\n",
              "      <td>0.568359</td>\n",
              "      <td>0.060150</td>\n",
              "      <td>0.535338</td>\n",
              "      <td>http://farm4.staticflickr.com/3850/14926048846...</td>\n",
              "      <td>0.576172</td>\n",
              "      <td>0.644531</td>\n",
              "      <td>0.102526</td>\n",
              "      <td>0.222883</td>\n",
              "      <td>ONE_CLASS_TRIPLET</td>\n",
              "      <td>291701.0</td>\n",
              "      <td>3.0</td>\n",
              "      <td>300701.0</td>\n",
              "      <td>1.0</td>\n",
              "      <td>300901.0</td>\n",
              "      <td>3.0</td>\n",
              "      <td>321501.0</td>\n",
              "      <td>3.0</td>\n",
              "      <td>3.219020e+05</td>\n",
              "      <td>2.0</td>\n",
              "      <td>3.221020e+05</td>\n",
              "      <td>3.0</td>\n",
              "    </tr>\n",
              "    <tr>\n",
              "      <th>2</th>\n",
              "      <td>http://farm4.staticflickr.com/3679/12137399835...</td>\n",
              "      <td>0.453125</td>\n",
              "      <td>0.655273</td>\n",
              "      <td>0.079019</td>\n",
              "      <td>0.407357</td>\n",
              "      <td>http://farm1.staticflickr.com/1/186137601_d1b8...</td>\n",
              "      <td>0.311558</td>\n",
              "      <td>0.444724</td>\n",
              "      <td>0.178711</td>\n",
              "      <td>0.298828</td>\n",
              "      <td>http://farm6.staticflickr.com/5519/12358234664...</td>\n",
              "      <td>0.036133</td>\n",
              "      <td>0.152344</td>\n",
              "      <td>0.298091</td>\n",
              "      <td>0.502203</td>\n",
              "      <td>TWO_CLASS_TRIPLET</td>\n",
              "      <td>291301.0</td>\n",
              "      <td>3.0</td>\n",
              "      <td>291701.0</td>\n",
              "      <td>3.0</td>\n",
              "      <td>300701.0</td>\n",
              "      <td>3.0</td>\n",
              "      <td>321501.0</td>\n",
              "      <td>3.0</td>\n",
              "      <td>3.216010e+05</td>\n",
              "      <td>3.0</td>\n",
              "      <td>3.219020e+05</td>\n",
              "      <td>3.0</td>\n",
              "    </tr>\n",
              "    <tr>\n",
              "      <th>3</th>\n",
              "      <td>http://farm4.staticflickr.com/3679/12137399835...</td>\n",
              "      <td>0.453125</td>\n",
              "      <td>0.655273</td>\n",
              "      <td>0.079019</td>\n",
              "      <td>0.407357</td>\n",
              "      <td>http://farm8.staticflickr.com/7345/11272369166...</td>\n",
              "      <td>0.185547</td>\n",
              "      <td>0.260742</td>\n",
              "      <td>0.146245</td>\n",
              "      <td>0.263505</td>\n",
              "      <td>http://farm8.staticflickr.com/7325/8724273816_...</td>\n",
              "      <td>0.337891</td>\n",
              "      <td>0.698242</td>\n",
              "      <td>0.000000</td>\n",
              "      <td>0.657986</td>\n",
              "      <td>TWO_CLASS_TRIPLET</td>\n",
              "      <td>291301.0</td>\n",
              "      <td>3.0</td>\n",
              "      <td>291701.0</td>\n",
              "      <td>2.0</td>\n",
              "      <td>321902.0</td>\n",
              "      <td>3.0</td>\n",
              "      <td>322102.0</td>\n",
              "      <td>2.0</td>\n",
              "      <td>4.294990e+09</td>\n",
              "      <td>2.0</td>\n",
              "      <td>4.831600e+04</td>\n",
              "      <td>3.0</td>\n",
              "    </tr>\n",
              "    <tr>\n",
              "      <th>4</th>\n",
              "      <td>http://farm4.staticflickr.com/3679/12137399835...</td>\n",
              "      <td>0.453125</td>\n",
              "      <td>0.655273</td>\n",
              "      <td>0.079019</td>\n",
              "      <td>0.407357</td>\n",
              "      <td>http://farm4.staticflickr.com/3760/13641363095...</td>\n",
              "      <td>0.408854</td>\n",
              "      <td>0.518229</td>\n",
              "      <td>0.277344</td>\n",
              "      <td>0.372070</td>\n",
              "      <td>http://farm4.staticflickr.com/3022/2819006049_...</td>\n",
              "      <td>0.140625</td>\n",
              "      <td>0.265625</td>\n",
              "      <td>0.196289</td>\n",
              "      <td>0.305664</td>\n",
              "      <td>THREE_CLASS_TRIPLET</td>\n",
              "      <td>291301.0</td>\n",
              "      <td>2.0</td>\n",
              "      <td>291701.0</td>\n",
              "      <td>2.0</td>\n",
              "      <td>321601.0</td>\n",
              "      <td>1.0</td>\n",
              "      <td>322102.0</td>\n",
              "      <td>2.0</td>\n",
              "      <td>4.294990e+09</td>\n",
              "      <td>2.0</td>\n",
              "      <td>4.831600e+04</td>\n",
              "      <td>2.0</td>\n",
              "    </tr>\n",
              "    <tr>\n",
              "      <th>...</th>\n",
              "      <td>...</td>\n",
              "      <td>...</td>\n",
              "      <td>...</td>\n",
              "      <td>...</td>\n",
              "      <td>...</td>\n",
              "      <td>...</td>\n",
              "      <td>...</td>\n",
              "      <td>...</td>\n",
              "      <td>...</td>\n",
              "      <td>...</td>\n",
              "      <td>...</td>\n",
              "      <td>...</td>\n",
              "      <td>...</td>\n",
              "      <td>...</td>\n",
              "      <td>...</td>\n",
              "      <td>...</td>\n",
              "      <td>...</td>\n",
              "      <td>...</td>\n",
              "      <td>...</td>\n",
              "      <td>...</td>\n",
              "      <td>...</td>\n",
              "      <td>...</td>\n",
              "      <td>...</td>\n",
              "      <td>...</td>\n",
              "      <td>...</td>\n",
              "      <td>...</td>\n",
              "      <td>...</td>\n",
              "      <td>...</td>\n",
              "    </tr>\n",
              "    <tr>\n",
              "      <th>22058</th>\n",
              "      <td>http://farm4.staticflickr.com/3719/11739565564...</td>\n",
              "      <td>0.511719</td>\n",
              "      <td>0.807617</td>\n",
              "      <td>0.156174</td>\n",
              "      <td>0.582324</td>\n",
              "      <td>http://farm2.staticflickr.com/1198/717226902_a...</td>\n",
              "      <td>0.536685</td>\n",
              "      <td>0.703804</td>\n",
              "      <td>0.519531</td>\n",
              "      <td>0.659180</td>\n",
              "      <td>http://farm6.staticflickr.com/5534/12245661505...</td>\n",
              "      <td>0.224012</td>\n",
              "      <td>0.320644</td>\n",
              "      <td>0.166016</td>\n",
              "      <td>0.240234</td>\n",
              "      <td>THREE_CLASS_TRIPLET</td>\n",
              "      <td>221901.0</td>\n",
              "      <td>3.0</td>\n",
              "      <td>269701.0</td>\n",
              "      <td>1.0</td>\n",
              "      <td>291301.0</td>\n",
              "      <td>3.0</td>\n",
              "      <td>291701.0</td>\n",
              "      <td>1.0</td>\n",
              "      <td>3.007010e+05</td>\n",
              "      <td>1.0</td>\n",
              "      <td>4.120700e+04</td>\n",
              "      <td>1.0</td>\n",
              "    </tr>\n",
              "    <tr>\n",
              "      <th>22059</th>\n",
              "      <td>http://farm4.staticflickr.com/3719/11739565564...</td>\n",
              "      <td>0.511719</td>\n",
              "      <td>0.807617</td>\n",
              "      <td>0.156174</td>\n",
              "      <td>0.582324</td>\n",
              "      <td>http://farm4.staticflickr.com/3467/3880591913_...</td>\n",
              "      <td>0.000000</td>\n",
              "      <td>0.998536</td>\n",
              "      <td>0.000000</td>\n",
              "      <td>0.999023</td>\n",
              "      <td>http://farm5.staticflickr.com/4154/5051256436_...</td>\n",
              "      <td>0.255014</td>\n",
              "      <td>0.740688</td>\n",
              "      <td>0.081055</td>\n",
              "      <td>0.466797</td>\n",
              "      <td>TWO_CLASS_TRIPLET</td>\n",
              "      <td>300901.0</td>\n",
              "      <td>3.0</td>\n",
              "      <td>321402.0</td>\n",
              "      <td>3.0</td>\n",
              "      <td>321501.0</td>\n",
              "      <td>3.0</td>\n",
              "      <td>322102.0</td>\n",
              "      <td>3.0</td>\n",
              "      <td>4.120700e+04</td>\n",
              "      <td>3.0</td>\n",
              "      <td>4.294990e+09</td>\n",
              "      <td>3.0</td>\n",
              "    </tr>\n",
              "    <tr>\n",
              "      <th>22060</th>\n",
              "      <td>http://farm4.staticflickr.com/3719/11739565564...</td>\n",
              "      <td>0.511719</td>\n",
              "      <td>0.807617</td>\n",
              "      <td>0.156174</td>\n",
              "      <td>0.582324</td>\n",
              "      <td>http://farm3.staticflickr.com/2792/4438917476_...</td>\n",
              "      <td>0.417277</td>\n",
              "      <td>0.623719</td>\n",
              "      <td>0.175781</td>\n",
              "      <td>0.335938</td>\n",
              "      <td>http://farm3.staticflickr.com/2345/12972604593...</td>\n",
              "      <td>0.362500</td>\n",
              "      <td>0.445833</td>\n",
              "      <td>0.240625</td>\n",
              "      <td>0.387500</td>\n",
              "      <td>THREE_CLASS_TRIPLET</td>\n",
              "      <td>189501.0</td>\n",
              "      <td>2.0</td>\n",
              "      <td>249701.0</td>\n",
              "      <td>1.0</td>\n",
              "      <td>300901.0</td>\n",
              "      <td>2.0</td>\n",
              "      <td>321601.0</td>\n",
              "      <td>2.0</td>\n",
              "      <td>4.294979e+09</td>\n",
              "      <td>3.0</td>\n",
              "      <td>4.831600e+04</td>\n",
              "      <td>2.0</td>\n",
              "    </tr>\n",
              "    <tr>\n",
              "      <th>22061</th>\n",
              "      <td>http://farm4.staticflickr.com/3719/11739565564...</td>\n",
              "      <td>0.511719</td>\n",
              "      <td>0.807617</td>\n",
              "      <td>0.156174</td>\n",
              "      <td>0.582324</td>\n",
              "      <td>http://farm4.staticflickr.com/3761/9963243285_...</td>\n",
              "      <td>0.576696</td>\n",
              "      <td>0.787611</td>\n",
              "      <td>0.041992</td>\n",
              "      <td>0.205078</td>\n",
              "      <td>http://farm5.staticflickr.com/4084/5090708070_...</td>\n",
              "      <td>0.091667</td>\n",
              "      <td>0.323611</td>\n",
              "      <td>0.000000</td>\n",
              "      <td>0.289225</td>\n",
              "      <td>TWO_CLASS_TRIPLET</td>\n",
              "      <td>221901.0</td>\n",
              "      <td>3.0</td>\n",
              "      <td>269701.0</td>\n",
              "      <td>3.0</td>\n",
              "      <td>291301.0</td>\n",
              "      <td>3.0</td>\n",
              "      <td>291701.0</td>\n",
              "      <td>3.0</td>\n",
              "      <td>3.007010e+05</td>\n",
              "      <td>3.0</td>\n",
              "      <td>3.216010e+05</td>\n",
              "      <td>3.0</td>\n",
              "    </tr>\n",
              "    <tr>\n",
              "      <th>22062</th>\n",
              "      <td>http://farm4.staticflickr.com/3719/11739565564...</td>\n",
              "      <td>0.511719</td>\n",
              "      <td>0.807617</td>\n",
              "      <td>0.156174</td>\n",
              "      <td>0.582324</td>\n",
              "      <td>http://farm6.staticflickr.com/5318/5850774729_...</td>\n",
              "      <td>0.310547</td>\n",
              "      <td>0.381836</td>\n",
              "      <td>0.215278</td>\n",
              "      <td>0.364583</td>\n",
              "      <td>http://farm6.staticflickr.com/5284/5248850110_...</td>\n",
              "      <td>0.539062</td>\n",
              "      <td>0.637695</td>\n",
              "      <td>0.073206</td>\n",
              "      <td>0.245974</td>\n",
              "      <td>TWO_CLASS_TRIPLET</td>\n",
              "      <td>147101.0</td>\n",
              "      <td>3.0</td>\n",
              "      <td>291701.0</td>\n",
              "      <td>3.0</td>\n",
              "      <td>321402.0</td>\n",
              "      <td>3.0</td>\n",
              "      <td>321601.0</td>\n",
              "      <td>3.0</td>\n",
              "      <td>3.219020e+05</td>\n",
              "      <td>3.0</td>\n",
              "      <td>4.831600e+04</td>\n",
              "      <td>3.0</td>\n",
              "    </tr>\n",
              "  </tbody>\n",
              "</table>\n",
              "<p>44035 rows × 28 columns</p>\n",
              "</div>"
            ],
            "text/plain": [
              "                                                      0   ...   27\n",
              "0      http://farm4.staticflickr.com/3679/12137399835...  ...  3.0\n",
              "1      http://farm4.staticflickr.com/3679/12137399835...  ...  3.0\n",
              "2      http://farm4.staticflickr.com/3679/12137399835...  ...  3.0\n",
              "3      http://farm4.staticflickr.com/3679/12137399835...  ...  3.0\n",
              "4      http://farm4.staticflickr.com/3679/12137399835...  ...  2.0\n",
              "...                                                  ...  ...  ...\n",
              "22058  http://farm4.staticflickr.com/3719/11739565564...  ...  1.0\n",
              "22059  http://farm4.staticflickr.com/3719/11739565564...  ...  3.0\n",
              "22060  http://farm4.staticflickr.com/3719/11739565564...  ...  2.0\n",
              "22061  http://farm4.staticflickr.com/3719/11739565564...  ...  3.0\n",
              "22062  http://farm4.staticflickr.com/3719/11739565564...  ...  3.0\n",
              "\n",
              "[44035 rows x 28 columns]"
            ]
          },
          "metadata": {
            "tags": []
          },
          "execution_count": 53
        }
      ]
    },
    {
      "cell_type": "markdown",
      "metadata": {
        "id": "CHq_ioFi5AAJ"
      },
      "source": [
        "# Model Building"
      ]
    },
    {
      "cell_type": "code",
      "metadata": {
        "id": "T2gcmOpBWbzk"
      },
      "source": [
        "!pip install dask distributed"
      ],
      "execution_count": null,
      "outputs": []
    },
    {
      "cell_type": "markdown",
      "metadata": {
        "id": "EDd_AN2Qx9bF"
      },
      "source": [
        "## Using Scikit-learn and joblib"
      ]
    },
    {
      "cell_type": "code",
      "metadata": {
        "colab": {
          "base_uri": "https://localhost:8080/",
          "height": 115
        },
        "id": "ERpOSt2PSOyj",
        "outputId": "afbebabc-1594-4d01-b558-a72b27a4e6d1"
      },
      "source": [
        "# Import dask.distributed.Client and pandas\r\n",
        "from dask.distributed import Client\r\n",
        "import pandas as pd\r\n",
        "import time\r\n",
        "\r\n",
        "# Initializing a client\r\n",
        "client = Client(processes=False)\r\n",
        "client"
      ],
      "execution_count": 61,
      "outputs": [
        {
          "output_type": "execute_result",
          "data": {
            "text/html": [
              "<table style=\"border: 2px solid white;\">\n",
              "<tr>\n",
              "<td style=\"vertical-align: top; border: 0px solid white\">\n",
              "<h3 style=\"text-align: left;\">Client</h3>\n",
              "<ul style=\"text-align: left; list-style: none; margin: 0; padding: 0;\">\n",
              "  <li><b>Scheduler: </b>inproc://172.28.0.2/1592/1</li>\n",
              "  <li><b>Dashboard: </b><a href='http://172.28.0.2:8787/status' target='_blank'>http://172.28.0.2:8787/status</a></li>\n",
              "</ul>\n",
              "</td>\n",
              "<td style=\"vertical-align: top; border: 0px solid white\">\n",
              "<h3 style=\"text-align: left;\">Cluster</h3>\n",
              "<ul style=\"text-align: left; list-style:none; margin: 0; padding: 0;\">\n",
              "  <li><b>Workers: </b>1</li>\n",
              "  <li><b>Cores: </b>2</li>\n",
              "  <li><b>Memory: </b>13.65 GB</li>\n",
              "</ul>\n",
              "</td>\n",
              "</tr>\n",
              "</table>"
            ],
            "text/plain": [
              "<Client: 'inproc://172.28.0.2/1592/1' processes=1 threads=2, memory=13.65 GB>"
            ]
          },
          "metadata": {
            "tags": []
          },
          "execution_count": 61
        }
      ]
    },
    {
      "cell_type": "markdown",
      "metadata": {
        "id": "RGc2sPTNaimr"
      },
      "source": [
        "**Create Scikit-Learn Estimator**"
      ]
    },
    {
      "cell_type": "code",
      "metadata": {
        "id": "S1LDs1jpR8aF"
      },
      "source": [
        "from sklearn.datasets import make_classification\r\n",
        "from sklearn.svm import SVC\r\n",
        "from sklearn.model_selection import GridSearchCV\r\n",
        "import pandas as pd"
      ],
      "execution_count": 62,
      "outputs": []
    },
    {
      "cell_type": "code",
      "metadata": {
        "id": "jw5qKozNFBjs"
      },
      "source": [
        "X, Y = make_classification(n_samples=1000, random_state=0)"
      ],
      "execution_count": 63,
      "outputs": []
    },
    {
      "cell_type": "code",
      "metadata": {
        "id": "Fo3sdNBsau4p"
      },
      "source": [
        "param_grid = {\"C\": [0.001, 0.01, 0.1, 0.5, 1.0, 2.0, 5.0, 10.0],\r\n",
        "              \"kernel\": ['rbf', 'poly', 'sigmoid'],\r\n",
        "              \"shrinking\": [True, False]}\r\n",
        "\r\n",
        "grid_search = GridSearchCV(SVC(gamma='auto', random_state=0, probability=True),\r\n",
        "                           param_grid=param_grid,\r\n",
        "                           return_train_score=False,\r\n",
        "                           cv=3,\r\n",
        "                           n_jobs=-1)"
      ],
      "execution_count": 64,
      "outputs": []
    },
    {
      "cell_type": "code",
      "metadata": {
        "colab": {
          "base_uri": "https://localhost:8080/"
        },
        "id": "Dhzm6K-DayMj",
        "outputId": "d879dfa8-a3e7-4ff9-e15a-801bfbae4239"
      },
      "source": [
        "grid_search.fit(X, Y)"
      ],
      "execution_count": 65,
      "outputs": [
        {
          "output_type": "execute_result",
          "data": {
            "text/plain": [
              "GridSearchCV(cv=3,\n",
              "             estimator=SVC(gamma='auto', probability=True, random_state=0),\n",
              "             n_jobs=-1,\n",
              "             param_grid={'C': [0.001, 0.01, 0.1, 0.5, 1.0, 2.0, 5.0, 10.0],\n",
              "                         'kernel': ['rbf', 'poly', 'sigmoid'],\n",
              "                         'shrinking': [True, False]})"
            ]
          },
          "metadata": {
            "tags": []
          },
          "execution_count": 65
        }
      ]
    },
    {
      "cell_type": "markdown",
      "metadata": {
        "id": "DYwmb5OQa7_y"
      },
      "source": [
        "To fit it using the cluster, we just need to use a context manager provided by joblib."
      ]
    },
    {
      "cell_type": "code",
      "metadata": {
        "id": "DoLjGsEPa6QC"
      },
      "source": [
        "import joblib\r\n",
        "\r\n",
        "with joblib.parallel_backend('dask'):\r\n",
        "    grid_search.fit(X, Y)"
      ],
      "execution_count": 66,
      "outputs": []
    },
    {
      "cell_type": "code",
      "metadata": {
        "id": "xm8XnqHfb0QR"
      },
      "source": [
        "pd.DataFrame(grid_search.cv_results_)"
      ],
      "execution_count": null,
      "outputs": []
    },
    {
      "cell_type": "code",
      "metadata": {
        "colab": {
          "base_uri": "https://localhost:8080/",
          "height": 551
        },
        "id": "JdU2WdBKbPgt",
        "outputId": "aedf0b44-9471-4b96-ca43-bc4f788852fe"
      },
      "source": [
        "pd.DataFrame(grid_search.cv_results_).sort_values(by='mean_test_score', ascending=False, inplace=False).head()"
      ],
      "execution_count": 68,
      "outputs": [
        {
          "output_type": "execute_result",
          "data": {
            "text/html": [
              "<div>\n",
              "<style scoped>\n",
              "    .dataframe tbody tr th:only-of-type {\n",
              "        vertical-align: middle;\n",
              "    }\n",
              "\n",
              "    .dataframe tbody tr th {\n",
              "        vertical-align: top;\n",
              "    }\n",
              "\n",
              "    .dataframe thead th {\n",
              "        text-align: right;\n",
              "    }\n",
              "</style>\n",
              "<table border=\"1\" class=\"dataframe\">\n",
              "  <thead>\n",
              "    <tr style=\"text-align: right;\">\n",
              "      <th></th>\n",
              "      <th>mean_fit_time</th>\n",
              "      <th>std_fit_time</th>\n",
              "      <th>mean_score_time</th>\n",
              "      <th>std_score_time</th>\n",
              "      <th>param_C</th>\n",
              "      <th>param_kernel</th>\n",
              "      <th>param_shrinking</th>\n",
              "      <th>params</th>\n",
              "      <th>split0_test_score</th>\n",
              "      <th>split1_test_score</th>\n",
              "      <th>split2_test_score</th>\n",
              "      <th>mean_test_score</th>\n",
              "      <th>std_test_score</th>\n",
              "      <th>rank_test_score</th>\n",
              "    </tr>\n",
              "  </thead>\n",
              "  <tbody>\n",
              "    <tr>\n",
              "      <th>24</th>\n",
              "      <td>0.136645</td>\n",
              "      <td>0.004563</td>\n",
              "      <td>0.011760</td>\n",
              "      <td>0.000268</td>\n",
              "      <td>1</td>\n",
              "      <td>rbf</td>\n",
              "      <td>True</td>\n",
              "      <td>{'C': 1.0, 'kernel': 'rbf', 'shrinking': True}</td>\n",
              "      <td>0.952096</td>\n",
              "      <td>0.939940</td>\n",
              "      <td>0.954955</td>\n",
              "      <td>0.948997</td>\n",
              "      <td>0.006510</td>\n",
              "      <td>1</td>\n",
              "    </tr>\n",
              "    <tr>\n",
              "      <th>31</th>\n",
              "      <td>0.119771</td>\n",
              "      <td>0.004300</td>\n",
              "      <td>0.011064</td>\n",
              "      <td>0.000690</td>\n",
              "      <td>2</td>\n",
              "      <td>rbf</td>\n",
              "      <td>False</td>\n",
              "      <td>{'C': 2.0, 'kernel': 'rbf', 'shrinking': False}</td>\n",
              "      <td>0.952096</td>\n",
              "      <td>0.939940</td>\n",
              "      <td>0.954955</td>\n",
              "      <td>0.948997</td>\n",
              "      <td>0.006510</td>\n",
              "      <td>1</td>\n",
              "    </tr>\n",
              "    <tr>\n",
              "      <th>25</th>\n",
              "      <td>0.130595</td>\n",
              "      <td>0.004248</td>\n",
              "      <td>0.012946</td>\n",
              "      <td>0.001569</td>\n",
              "      <td>1</td>\n",
              "      <td>rbf</td>\n",
              "      <td>False</td>\n",
              "      <td>{'C': 1.0, 'kernel': 'rbf', 'shrinking': False}</td>\n",
              "      <td>0.952096</td>\n",
              "      <td>0.939940</td>\n",
              "      <td>0.954955</td>\n",
              "      <td>0.948997</td>\n",
              "      <td>0.006510</td>\n",
              "      <td>1</td>\n",
              "    </tr>\n",
              "    <tr>\n",
              "      <th>30</th>\n",
              "      <td>0.131624</td>\n",
              "      <td>0.009991</td>\n",
              "      <td>0.011241</td>\n",
              "      <td>0.000354</td>\n",
              "      <td>2</td>\n",
              "      <td>rbf</td>\n",
              "      <td>True</td>\n",
              "      <td>{'C': 2.0, 'kernel': 'rbf', 'shrinking': True}</td>\n",
              "      <td>0.952096</td>\n",
              "      <td>0.939940</td>\n",
              "      <td>0.954955</td>\n",
              "      <td>0.948997</td>\n",
              "      <td>0.006510</td>\n",
              "      <td>1</td>\n",
              "    </tr>\n",
              "    <tr>\n",
              "      <th>37</th>\n",
              "      <td>0.127282</td>\n",
              "      <td>0.000126</td>\n",
              "      <td>0.012056</td>\n",
              "      <td>0.000611</td>\n",
              "      <td>5</td>\n",
              "      <td>rbf</td>\n",
              "      <td>False</td>\n",
              "      <td>{'C': 5.0, 'kernel': 'rbf', 'shrinking': False}</td>\n",
              "      <td>0.955090</td>\n",
              "      <td>0.936937</td>\n",
              "      <td>0.954955</td>\n",
              "      <td>0.948994</td>\n",
              "      <td>0.008526</td>\n",
              "      <td>5</td>\n",
              "    </tr>\n",
              "  </tbody>\n",
              "</table>\n",
              "</div>"
            ],
            "text/plain": [
              "    mean_fit_time  std_fit_time  ...  std_test_score  rank_test_score\n",
              "24       0.136645      0.004563  ...        0.006510                1\n",
              "31       0.119771      0.004300  ...        0.006510                1\n",
              "25       0.130595      0.004248  ...        0.006510                1\n",
              "30       0.131624      0.009991  ...        0.006510                1\n",
              "37       0.127282      0.000126  ...        0.008526                5\n",
              "\n",
              "[5 rows x 14 columns]"
            ]
          },
          "metadata": {
            "tags": []
          },
          "execution_count": 68
        }
      ]
    },
    {
      "cell_type": "code",
      "metadata": {
        "colab": {
          "base_uri": "https://localhost:8080/"
        },
        "id": "sVYyCfXJcLX1",
        "outputId": "efb19e9a-ca63-4db1-f467-d05dc4162dbb"
      },
      "source": [
        "grid_search.predict(X)[:10]"
      ],
      "execution_count": 69,
      "outputs": [
        {
          "output_type": "execute_result",
          "data": {
            "text/plain": [
              "array([0, 1, 1, 1, 0, 1, 0, 0, 1, 0])"
            ]
          },
          "metadata": {
            "tags": []
          },
          "execution_count": 69
        }
      ]
    },
    {
      "cell_type": "code",
      "metadata": {
        "colab": {
          "base_uri": "https://localhost:8080/"
        },
        "id": "VFPvnKizcOfZ",
        "outputId": "b7c44661-a420-4bec-bfa7-7c215d1bec40"
      },
      "source": [
        "grid_search.score(X, Y)"
      ],
      "execution_count": 70,
      "outputs": [
        {
          "output_type": "execute_result",
          "data": {
            "text/plain": [
              "0.983"
            ]
          },
          "metadata": {
            "tags": []
          },
          "execution_count": 70
        }
      ]
    },
    {
      "cell_type": "code",
      "metadata": {
        "colab": {
          "base_uri": "https://localhost:8080/"
        },
        "id": "Gb-99NeurikP",
        "outputId": "1a6df6bb-a267-4a2e-aba8-de5b756eb3d5"
      },
      "source": [
        "grid_search.best_estimator_"
      ],
      "execution_count": 79,
      "outputs": [
        {
          "output_type": "execute_result",
          "data": {
            "text/plain": [
              "SVC(gamma='auto', probability=True, random_state=0)"
            ]
          },
          "metadata": {
            "tags": []
          },
          "execution_count": 79
        }
      ]
    },
    {
      "cell_type": "markdown",
      "metadata": {
        "id": "NV7S1QkJcjsN"
      },
      "source": [
        "## Using Data Frame"
      ]
    },
    {
      "cell_type": "code",
      "metadata": {
        "id": "uG5Y3fR9eK48"
      },
      "source": [
        "!pip install dask-ml"
      ],
      "execution_count": null,
      "outputs": []
    },
    {
      "cell_type": "markdown",
      "metadata": {
        "id": "xn-sfd4YyYcs"
      },
      "source": [
        "Preprocessing steps:"
      ]
    },
    {
      "cell_type": "code",
      "metadata": {
        "colab": {
          "base_uri": "https://localhost:8080/"
        },
        "id": "E0mgmCtXykBy",
        "outputId": "d59041b3-ce8e-4258-9bd5-96d288861fb0"
      },
      "source": [
        "cerals_dask.dtypes"
      ],
      "execution_count": 82,
      "outputs": [
        {
          "output_type": "execute_result",
          "data": {
            "text/plain": [
              "name         object\n",
              "mfr          object\n",
              "type         object\n",
              "calories      int64\n",
              "protein       int64\n",
              "fat           int64\n",
              "sodium        int64\n",
              "fiber       float64\n",
              "carbo       float64\n",
              "sugars        int64\n",
              "potass        int64\n",
              "vitamins      int64\n",
              "shelf         int64\n",
              "weight      float64\n",
              "cups        float64\n",
              "rating      float64\n",
              "dtype: object"
            ]
          },
          "metadata": {
            "tags": []
          },
          "execution_count": 82
        }
      ]
    },
    {
      "cell_type": "code",
      "metadata": {
        "colab": {
          "base_uri": "https://localhost:8080/"
        },
        "id": "oPDJsTYhcuOl",
        "outputId": "1df45e11-c715-4661-9d9e-e04f3ab7e2c1"
      },
      "source": [
        "cerals_dask.isnull().sum().compute()"
      ],
      "execution_count": 81,
      "outputs": [
        {
          "output_type": "execute_result",
          "data": {
            "text/plain": [
              "name        0\n",
              "mfr         0\n",
              "type        0\n",
              "calories    0\n",
              "protein     0\n",
              "fat         0\n",
              "sodium      0\n",
              "fiber       0\n",
              "carbo       0\n",
              "sugars      0\n",
              "potass      0\n",
              "vitamins    0\n",
              "shelf       0\n",
              "weight      0\n",
              "cups        0\n",
              "rating      0\n",
              "dtype: int64"
            ]
          },
          "metadata": {
            "tags": []
          },
          "execution_count": 81
        }
      ]
    },
    {
      "cell_type": "code",
      "metadata": {
        "id": "UMr7wAvAyqfN"
      },
      "source": [
        "#defining the data and target\r\n",
        "categorical_variables = cerals_dask.select_dtypes(include=['object']).columns\r\n",
        "target = cerals_dask['rating']"
      ],
      "execution_count": 86,
      "outputs": []
    },
    {
      "cell_type": "code",
      "metadata": {
        "id": "FBDo7O3T17tg"
      },
      "source": [
        "train,test=cerals_dask.random_split([0.7,0.3])"
      ],
      "execution_count": 100,
      "outputs": []
    },
    {
      "cell_type": "code",
      "metadata": {
        "id": "JGZMvF9j0ZxD"
      },
      "source": [
        "# dask operation\r\n",
        "raw_data_train = train.drop('rating', axis=1)\r\n",
        "raw_data_test = test.drop('rating', axis=1)\r\n",
        "\r\n",
        "# conversion to pandas\r\n",
        "cerals_dask_X_train = raw_data_train.compute()\r\n",
        "cerals_dask_X_test = raw_data_test.compute()"
      ],
      "execution_count": 104,
      "outputs": []
    },
    {
      "cell_type": "code",
      "metadata": {
        "id": "sUIyR1bP3FH7"
      },
      "source": [
        "target_train=train['rating']\r\n",
        "target_test=train['rating']"
      ],
      "execution_count": 109,
      "outputs": []
    },
    {
      "cell_type": "code",
      "metadata": {
        "id": "ABJPQUHg01PD"
      },
      "source": [
        "cerals_dask_dummies_train=dd.get_dummies(cerals_dask_X_train)\r\n",
        "cerals_dask_dummies_test=dd.get_dummies(cerals_dask_X_test)"
      ],
      "execution_count": 113,
      "outputs": []
    },
    {
      "cell_type": "code",
      "metadata": {
        "id": "lp_Z8f8w1Xa6"
      },
      "source": [
        "#converting dataframe to array\r\n",
        "\r\n",
        "data_train=cerals_dask_dummies_train.values\r\n",
        "data_test=cerals_dask_dummies_test.values"
      ],
      "execution_count": 106,
      "outputs": []
    },
    {
      "cell_type": "code",
      "metadata": {
        "id": "4AonSZ2wzBfa"
      },
      "source": [
        "#fit the model\r\n",
        "from dask_ml.linear_model import LinearRegression"
      ],
      "execution_count": 107,
      "outputs": []
    },
    {
      "cell_type": "code",
      "metadata": {
        "colab": {
          "base_uri": "https://localhost:8080/"
        },
        "id": "rnjZR0NQzE5C",
        "outputId": "9488fb75-d698-4278-e40d-17b69630c230"
      },
      "source": [
        "lr = LinearRegression()\r\n",
        "lr.fit(data_train, target_train)"
      ],
      "execution_count": 110,
      "outputs": [
        {
          "output_type": "execute_result",
          "data": {
            "text/plain": [
              "LinearRegression()"
            ]
          },
          "metadata": {
            "tags": []
          },
          "execution_count": 110
        }
      ]
    },
    {
      "cell_type": "code",
      "metadata": {
        "colab": {
          "base_uri": "https://localhost:8080/"
        },
        "id": "43dcQ60p4OYj",
        "outputId": "e241eef4-4be7-4f3c-f06e-bcd71031fa8a"
      },
      "source": [
        "data_test.shape"
      ],
      "execution_count": 121,
      "outputs": [
        {
          "output_type": "execute_result",
          "data": {
            "text/plain": [
              "(20, 39)"
            ]
          },
          "metadata": {
            "tags": []
          },
          "execution_count": 121
        }
      ]
    },
    {
      "cell_type": "code",
      "metadata": {
        "id": "mhrxTQx-1ltC"
      },
      "source": [
        "#predict on test and upload\r\n",
        "pred=lr.predict(data_test)"
      ],
      "execution_count": 127,
      "outputs": []
    },
    {
      "cell_type": "code",
      "metadata": {
        "colab": {
          "base_uri": "https://localhost:8080/"
        },
        "id": "u8mx0r6k40zr",
        "outputId": "5fe5e1c2-0380-4cd0-e881-ef288cf949b7"
      },
      "source": [
        "pred"
      ],
      "execution_count": 128,
      "outputs": [
        {
          "output_type": "execute_result",
          "data": {
            "text/plain": [
              "array([67.4804925 , 58.5922286 , 92.43686544, 28.9280942 , 32.56657878,\n",
              "       36.34745978, 48.33513758, 52.51051114, 19.35065671, 39.70606674,\n",
              "       22.23494652, 40.74372814, 45.11902365, 21.90205072, 63.61018675,\n",
              "       46.13412281, 35.53770891, 43.61679972, 31.60510324, 30.85526548,\n",
              "       57.45158367, 40.21790401, 40.33256213, 27.47143095, 34.61312763,\n",
              "       52.55206313, 45.05750802, 21.37982439, 30.49000755, 35.88572451,\n",
              "       35.81097078, 26.18879885, 54.03285013, 33.50773262, 29.37064051,\n",
              "       39.98176166, 58.74291731, 29.86295041, 37.18904551, 40.82253016,\n",
              "       59.8619188 , 48.73372049, 50.08002425, 38.59622821, 39.0298946 ,\n",
              "       54.49666842, 39.88003486, 67.28022739, 73.44080295, 71.78836586,\n",
              "       52.31594414, 38.14571592, 28.01121569, 45.88738367, 38.42637386,\n",
              "       50.7538136 , 35.52734611])"
            ]
          },
          "metadata": {
            "tags": []
          },
          "execution_count": 128
        }
      ]
    }
  ]
}